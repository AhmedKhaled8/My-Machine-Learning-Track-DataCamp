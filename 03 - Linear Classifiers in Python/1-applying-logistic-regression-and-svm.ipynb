{
 "cells": [
  {
   "cell_type": "markdown",
   "id": "950b1d9f",
   "metadata": {},
   "source": [
    "# Applying Logistic Regression and SVM\n",
    "---\n",
    "\n",
    "In this notebook, we will discuss the basics of applying the logistic regression and the SVM to classification problems using `sklearn`.\n",
    "\n",
    "**NOTE:** the course/notebooks assume the knowledge of the following:\n",
    "* Machine Learning knowledge in general in terms of training, cost function, some algorithms, etc.\n",
    "* How the Logisitic regression and SVM work generally.\n",
    "* `sklearn` classes and their methods.\n"
   ]
  },
  {
   "cell_type": "markdown",
   "id": "4cc26249",
   "metadata": {},
   "source": [
    "## Data\n",
    "\n",
    "For the data, we will use the digits dataset from `sklearn.datasets`."
   ]
  },
  {
   "cell_type": "code",
   "execution_count": 1,
   "id": "83af47bc",
   "metadata": {},
   "outputs": [],
   "source": [
    "from sklearn.datasets import load_digits\n",
    "\n",
    "digits = load_digits()\n",
    "X, y = digits.data, digits.target"
   ]
  },
  {
   "cell_type": "code",
   "execution_count": 2,
   "id": "b03661e5",
   "metadata": {},
   "outputs": [
    {
     "data": {
      "text/plain": [
       "((1797, 64), (1797,))"
      ]
     },
     "execution_count": 2,
     "metadata": {},
     "output_type": "execute_result"
    }
   ],
   "source": [
    "X.shape, y.shape"
   ]
  },
  {
   "cell_type": "markdown",
   "id": "8d75f61d",
   "metadata": {},
   "source": [
    "We can split the data to train set and test set."
   ]
  },
  {
   "cell_type": "code",
   "execution_count": 3,
   "id": "dc2b170e",
   "metadata": {},
   "outputs": [],
   "source": [
    "from sklearn.model_selection import train_test_split\n",
    "\n",
    "X_train, X_test, y_train, y_test = train_test_split(X, y)"
   ]
  },
  {
   "cell_type": "markdown",
   "id": "3e331c7d",
   "metadata": {},
   "source": [
    "## Logistic Regression"
   ]
  },
  {
   "cell_type": "markdown",
   "id": "ccb5522d",
   "metadata": {},
   "source": [
    "First, we import the `LogisticRegression` class from the `linear_model` module in the `sklearn` package."
   ]
  },
  {
   "cell_type": "code",
   "execution_count": 4,
   "id": "0acbb4ba",
   "metadata": {},
   "outputs": [],
   "source": [
    "from sklearn.linear_model import LogisticRegression"
   ]
  },
  {
   "cell_type": "markdown",
   "id": "b0c19754",
   "metadata": {},
   "source": [
    "We create an instance from the `LogisticRegression` class and fit our training data `X_train, y_train` to it using the `fit` method."
   ]
  },
  {
   "cell_type": "code",
   "execution_count": 5,
   "id": "46edb683",
   "metadata": {},
   "outputs": [
    {
     "name": "stderr",
     "output_type": "stream",
     "text": [
      "c:\\users\\u\\appdata\\local\\programs\\python\\python39\\lib\\site-packages\\sklearn\\linear_model\\_logistic.py:763: ConvergenceWarning: lbfgs failed to converge (status=1):\n",
      "STOP: TOTAL NO. of ITERATIONS REACHED LIMIT.\n",
      "\n",
      "Increase the number of iterations (max_iter) or scale the data as shown in:\n",
      "    https://scikit-learn.org/stable/modules/preprocessing.html\n",
      "Please also refer to the documentation for alternative solver options:\n",
      "    https://scikit-learn.org/stable/modules/linear_model.html#logistic-regression\n",
      "  n_iter_i = _check_optimize_result(\n"
     ]
    },
    {
     "data": {
      "text/plain": [
       "LogisticRegression()"
      ]
     },
     "execution_count": 5,
     "metadata": {},
     "output_type": "execute_result"
    }
   ],
   "source": [
    "lr = LogisticRegression()\n",
    "\n",
    "lr.fit(X_train, y_train)"
   ]
  },
  {
   "cell_type": "markdown",
   "id": "7827f7f9",
   "metadata": {},
   "source": [
    "We can get the accuracy of the training by passing our data to the `score` method of the model."
   ]
  },
  {
   "cell_type": "code",
   "execution_count": 6,
   "id": "f4a49ed7",
   "metadata": {},
   "outputs": [
    {
     "data": {
      "text/plain": [
       "1.0"
      ]
     },
     "execution_count": 6,
     "metadata": {},
     "output_type": "execute_result"
    }
   ],
   "source": [
    "lr.score(X_train, y_train)"
   ]
  },
  {
   "cell_type": "markdown",
   "id": "f8c18493",
   "metadata": {},
   "source": [
    "We can get the test accuracy by passing the test set to the `score` method."
   ]
  },
  {
   "cell_type": "code",
   "execution_count": 7,
   "id": "f3f7472a",
   "metadata": {},
   "outputs": [
    {
     "data": {
      "text/plain": [
       "0.9533333333333334"
      ]
     },
     "execution_count": 7,
     "metadata": {},
     "output_type": "execute_result"
    }
   ],
   "source": [
    "lr.score(X_test, y_test)"
   ]
  },
  {
   "cell_type": "markdown",
   "id": "815850f4",
   "metadata": {},
   "source": [
    "The target has 3 classes.Let's predict the target of the first row. We do this using the `predict` method and pass the features of the example we want to predict its target."
   ]
  },
  {
   "cell_type": "code",
   "execution_count": 8,
   "id": "545540a0",
   "metadata": {},
   "outputs": [
    {
     "data": {
      "text/plain": [
       "array([0])"
      ]
     },
     "execution_count": 8,
     "metadata": {},
     "output_type": "execute_result"
    }
   ],
   "source": [
    "lr.predict(X[0:1, :])"
   ]
  },
  {
   "cell_type": "markdown",
   "id": "d156bb37",
   "metadata": {},
   "source": [
    "We can get the probability of each class for that example using `predict_proba`."
   ]
  },
  {
   "cell_type": "code",
   "execution_count": 9,
   "id": "ab39a14e",
   "metadata": {},
   "outputs": [
    {
     "data": {
      "text/plain": [
       "array([[9.99999968e-01, 6.66444945e-18, 5.22875214e-12, 1.86657778e-12,\n",
       "        3.65203186e-10, 7.76878027e-09, 1.07657957e-09, 6.96269190e-09,\n",
       "        1.56724525e-08, 2.89119115e-10]])"
      ]
     },
     "execution_count": 9,
     "metadata": {},
     "output_type": "execute_result"
    }
   ],
   "source": [
    "lr.predict_proba(X[0:1, :])"
   ]
  },
  {
   "cell_type": "markdown",
   "id": "b9d26dad",
   "metadata": {},
   "source": [
    "We can see that the model predicts by 99% that the target for that example is the first class (0)."
   ]
  },
  {
   "cell_type": "markdown",
   "id": "984c10c5",
   "metadata": {},
   "source": [
    "## SVM\n",
    "\n",
    "To use the basic type of SVM, the linear SVM, we import `LinearSVC` from `sklearn.svm`. It has the same functionalities as the logisitc regression class."
   ]
  },
  {
   "cell_type": "code",
   "execution_count": 10,
   "id": "442198ab",
   "metadata": {},
   "outputs": [],
   "source": [
    "from sklearn.svm import LinearSVC"
   ]
  },
  {
   "cell_type": "code",
   "execution_count": 11,
   "id": "28303687",
   "metadata": {},
   "outputs": [],
   "source": [
    "svm = LinearSVC(max_iter = 2000)"
   ]
  },
  {
   "cell_type": "code",
   "execution_count": 12,
   "id": "09daf144",
   "metadata": {},
   "outputs": [
    {
     "name": "stderr",
     "output_type": "stream",
     "text": [
      "c:\\users\\u\\appdata\\local\\programs\\python\\python39\\lib\\site-packages\\sklearn\\svm\\_base.py:985: ConvergenceWarning: Liblinear failed to converge, increase the number of iterations.\n",
      "  warnings.warn(\"Liblinear failed to converge, increase \"\n"
     ]
    },
    {
     "data": {
      "text/plain": [
       "LinearSVC(max_iter=2000)"
      ]
     },
     "execution_count": 12,
     "metadata": {},
     "output_type": "execute_result"
    }
   ],
   "source": [
    "svm.fit(X_train, y_train)"
   ]
  },
  {
   "cell_type": "code",
   "execution_count": 13,
   "id": "4ba8e2fb",
   "metadata": {},
   "outputs": [
    {
     "data": {
      "text/plain": [
       "0.9948032665181886"
      ]
     },
     "execution_count": 13,
     "metadata": {},
     "output_type": "execute_result"
    }
   ],
   "source": [
    "svm.score(X_train, y_train)"
   ]
  },
  {
   "cell_type": "code",
   "execution_count": 14,
   "id": "503894fc",
   "metadata": {},
   "outputs": [
    {
     "data": {
      "text/plain": [
       "0.9533333333333334"
      ]
     },
     "execution_count": 14,
     "metadata": {},
     "output_type": "execute_result"
    }
   ],
   "source": [
    "svm.score(X_test, y_test)"
   ]
  },
  {
   "cell_type": "markdown",
   "id": "ace006ea",
   "metadata": {},
   "source": [
    "> Note that the `LogisticRegression` and `LinearSVC` handle the multi-class target internally."
   ]
  },
  {
   "cell_type": "markdown",
   "id": "d478ca1c",
   "metadata": {},
   "source": [
    "We can also use the non-linear SVM using the `SVC` class from `sklearn.svm`."
   ]
  },
  {
   "cell_type": "code",
   "execution_count": 15,
   "id": "f1c32cbd",
   "metadata": {},
   "outputs": [],
   "source": [
    "from sklearn.svm import SVC"
   ]
  },
  {
   "cell_type": "code",
   "execution_count": 16,
   "id": "874ee2a3",
   "metadata": {},
   "outputs": [],
   "source": [
    "svm_non_linear = SVC()"
   ]
  },
  {
   "cell_type": "code",
   "execution_count": 17,
   "id": "dd45faae",
   "metadata": {},
   "outputs": [
    {
     "data": {
      "text/plain": [
       "SVC()"
      ]
     },
     "execution_count": 17,
     "metadata": {},
     "output_type": "execute_result"
    }
   ],
   "source": [
    "svm_non_linear.fit(X_train, y_train)"
   ]
  },
  {
   "cell_type": "code",
   "execution_count": 18,
   "id": "1448f95a",
   "metadata": {},
   "outputs": [
    {
     "data": {
      "text/plain": [
       "0.9962880475129918"
      ]
     },
     "execution_count": 18,
     "metadata": {},
     "output_type": "execute_result"
    }
   ],
   "source": [
    "svm_non_linear.score(X_train, y_train)"
   ]
  },
  {
   "cell_type": "code",
   "execution_count": 19,
   "id": "07acdf37",
   "metadata": {},
   "outputs": [
    {
     "data": {
      "text/plain": [
       "0.9822222222222222"
      ]
     },
     "execution_count": 19,
     "metadata": {},
     "output_type": "execute_result"
    }
   ],
   "source": [
    "svm_non_linear.score(X_test, y_test)"
   ]
  },
  {
   "cell_type": "markdown",
   "id": "9c89d079",
   "metadata": {},
   "source": [
    "## Linear Decision Boundaries\n",
    "\n",
    "A decision boundary is called to be **linear** if it looks like a line \"hyperplane\" cutting the features space into 2 halves. Other than that, the decision boundary is considered to be **non-linear** which sometimes leading to non-contiguous regions of class separation.\n",
    "\n",
    "![](assets/images/linear-non-db)\n",
    "\n",
    "\n",
    "The logistic regression and linear SVM, using the normal feature space, are called **linear classifiers** because they learn linear decision boundaries. While the non-linear version of SVM can learn non-linear decision boundaries.\n",
    "\n",
    "We call the data linear separable if it can be perfectly explained by a linear classifier.\n",
    "\n",
    "![](assets/images/data-linear-sep)"
   ]
  },
  {
   "cell_type": "markdown",
   "id": "990b0ddd",
   "metadata": {},
   "source": [
    "We can visualize the decision boundaries of different classifiers. First we make a function that creates a meshgrid of the all possible X, y combinations. The following is valid for data of 2 features."
   ]
  },
  {
   "cell_type": "code",
   "execution_count": 20,
   "id": "743f3634",
   "metadata": {},
   "outputs": [],
   "source": [
    "import numpy as np\n",
    "\n",
    "def make_meshgrid(X, y, step = 0.02):\n",
    "    x_min, x_max = X.min() - 1, X.max() + 1\n",
    "    y_min, y_max = y.min() - 1, y.max() + 1\n",
    "    xx, yy = np.meshgrid(np.arange(x_min, x_max, step), np.arange(y_min, y_max, step))\n",
    "    return xx, yy"
   ]
  },
  {
   "cell_type": "markdown",
   "id": "ab5dd487",
   "metadata": {},
   "source": [
    "Then we create a function that draws contours based on the class prediction from the model."
   ]
  },
  {
   "cell_type": "code",
   "execution_count": 32,
   "id": "4041860f",
   "metadata": {},
   "outputs": [],
   "source": [
    "def plot_contours(ax, classifier, xx, yy, **params_kwargs):\n",
    "    z = classifier.predict(np.c_[xx.ravel(), yy.ravel()])\n",
    "    z = z.reshape(xx.shape)\n",
    "    out = ax.contourf(xx, yy, z, **params_kwargs)\n",
    "    return out"
   ]
  },
  {
   "cell_type": "code",
   "execution_count": 33,
   "id": "ff3ed335",
   "metadata": {},
   "outputs": [
    {
     "data": {
      "text/plain": [
       "((150, 2), (150,))"
      ]
     },
     "execution_count": 33,
     "metadata": {},
     "output_type": "execute_result"
    }
   ],
   "source": [
    "from sklearn.datasets import load_iris\n",
    "\n",
    "iris = load_iris()\n",
    "X = iris.data[:, :2]\n",
    "y = iris.target\n",
    "X.shape, y.shape"
   ]
  },
  {
   "cell_type": "code",
   "execution_count": 34,
   "id": "3c2a983c",
   "metadata": {},
   "outputs": [
    {
     "name": "stderr",
     "output_type": "stream",
     "text": [
      "c:\\users\\u\\appdata\\local\\programs\\python\\python39\\lib\\site-packages\\sklearn\\svm\\_base.py:985: ConvergenceWarning: Liblinear failed to converge, increase the number of iterations.\n",
      "  warnings.warn(\"Liblinear failed to converge, increase \"\n"
     ]
    },
    {
     "data": {
      "text/plain": [
       "LinearSVC()"
      ]
     },
     "execution_count": 34,
     "metadata": {},
     "output_type": "execute_result"
    }
   ],
   "source": [
    "model = LinearSVC()\n",
    "model.fit(X, y)"
   ]
  },
  {
   "cell_type": "code",
   "execution_count": 35,
   "id": "56c8a5b7",
   "metadata": {},
   "outputs": [],
   "source": [
    "import matplotlib.pyplot as plt\n",
    "%matplotlib inline"
   ]
  },
  {
   "cell_type": "code",
   "execution_count": 39,
   "id": "24577f3a",
   "metadata": {},
   "outputs": [
    {
     "data": {
      "text/plain": [
       "<matplotlib.collections.PathCollection at 0x284fe6d6310>"
      ]
     },
     "execution_count": 39,
     "metadata": {},
     "output_type": "execute_result"
    },
    {
     "data": {
      "image/png": "[encoded data removed]",
      "text/plain": [
       "<Figure size 432x288 with 1 Axes>"
      ]
     },
     "metadata": {
      "needs_background": "light"
     },
     "output_type": "display_data"
    }
   ],
   "source": [
    "fig, ax = plt.subplots()\n",
    "\n",
    "x0, x1 = X[:, 0], X[:, 1]\n",
    "xx, yy = make_meshgrid(x0, x1)\n",
    "plot_contours(ax, model, xx, yy, cmap=plt.cm.coolwarm, alpha=0.5)\n",
    "ax.scatter(x0, x1, c=y, cmap=plt.cm.coolwarm, edgecolors=\"black\")"
   ]
  },
  {
   "cell_type": "code",
   "execution_count": 42,
   "id": "d7c97acc",
   "metadata": {},
   "outputs": [
    {
     "data": {
      "text/plain": [
       "SVC()"
      ]
     },
     "execution_count": 42,
     "metadata": {},
     "output_type": "execute_result"
    }
   ],
   "source": [
    "model = SVC()\n",
    "model.fit(X, y)"
   ]
  },
  {
   "cell_type": "code",
   "execution_count": 43,
   "id": "909bdb4a",
   "metadata": {},
   "outputs": [
    {
     "data": {
      "text/plain": [
       "<matplotlib.collections.PathCollection at 0x284fe8cbb50>"
      ]
     },
     "execution_count": 43,
     "metadata": {},
     "output_type": "execute_result"
    },
    {
     "data": {
      "image/png": "[encoded data removed]",
      "text/plain": [
       "<Figure size 432x288 with 1 Axes>"
      ]
     },
     "metadata": {
      "needs_background": "light"
     },
     "output_type": "display_data"
    }
   ],
   "source": [
    "fig, ax = plt.subplots()\n",
    "\n",
    "x0, x1 = X[:, 0], X[:, 1]\n",
    "xx, yy = make_meshgrid(x0, x1)\n",
    "plot_contours(ax, model, xx, yy, cmap=plt.cm.coolwarm, alpha=0.5)\n",
    "ax.scatter(x0, x1, c=y, cmap=plt.cm.coolwarm, edgecolors=\"black\")"
   ]
  }
 ],
 "metadata": {
  "kernelspec": {
   "display_name": "Python 3 (ipykernel)",
   "language": "python",
   "name": "python3"
  },
  "language_info": {
   "codemirror_mode": {
    "name": "ipython",
    "version": 3
   },
   "file_extension": ".py",
   "mimetype": "text/x-python",
   "name": "python",
   "nbconvert_exporter": "python",
   "pygments_lexer": "ipython3",
   "version": "3.9.6"
  }
 },
 "nbformat": 4,
 "nbformat_minor": 5
}
