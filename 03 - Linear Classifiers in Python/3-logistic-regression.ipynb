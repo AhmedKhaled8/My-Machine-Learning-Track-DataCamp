{
 "cells": [
  {
   "cell_type": "markdown",
   "id": "ef12fcfb",
   "metadata": {},
   "source": [
    "# Logistic Regression\n",
    "---\n",
    "\n",
    "In this notebook, we dive deep into the details of the logistic regression. We will also learn about regularization and interpreting the model output."
   ]
  },
  {
   "cell_type": "markdown",
   "id": "1c17c8dd",
   "metadata": {},
   "source": [
    "## Logistic Regreesion and Regularization\n",
    "\n",
    "Regularization penalties **the large values** of the model coefficients. By that it overcomes the possibilty of the model suffering from **overfitting**. In the `LogisticRegression` class, there is a hyperparameter `C`, which corresponds to the ***inverse*** of the **regularization strenght**. So,\n",
    "\n",
    "* Larger `C` means less regularization thus larger coefficients\n",
    "* Smaller `C` means higher regularization thus smaller coefficients"
   ]
  },
  {
   "cell_type": "code",
   "execution_count": 1,
   "id": "bb5228f5",
   "metadata": {},
   "outputs": [
    {
     "name": "stderr",
     "output_type": "stream",
     "text": [
      "c:\\users\\u\\appdata\\local\\programs\\python\\python39\\lib\\site-packages\\sklearn\\linear_model\\_logistic.py:763: ConvergenceWarning: lbfgs failed to converge (status=1):\n",
      "STOP: TOTAL NO. of ITERATIONS REACHED LIMIT.\n",
      "\n",
      "Increase the number of iterations (max_iter) or scale the data as shown in:\n",
      "    https://scikit-learn.org/stable/modules/preprocessing.html\n",
      "Please also refer to the documentation for alternative solver options:\n",
      "    https://scikit-learn.org/stable/modules/linear_model.html#logistic-regression\n",
      "  n_iter_i = _check_optimize_result(\n"
     ]
    },
    {
     "data": {
      "text/plain": [
       "<matplotlib.legend.Legend at 0x17180532ac0>"
      ]
     },
     "execution_count": 1,
     "metadata": {},
     "output_type": "execute_result"
    },
    {
     "data": {
      "image/png": "[encoded data removed]",
      "text/plain": [
       "<Figure size 432x288 with 1 Axes>"
      ]
     },
     "metadata": {
      "needs_background": "light"
     },
     "output_type": "display_data"
    }
   ],
   "source": [
    "from sklearn.datasets import load_iris\n",
    "from sklearn.linear_model import LogisticRegression\n",
    "from sklearn.model_selection import train_test_split\n",
    "import matplotlib.pyplot as plt\n",
    "%matplotlib inline\n",
    "\n",
    "iris = load_iris()\n",
    "X, y = iris.data, iris.target\n",
    "\n",
    "X_train, X_test, y_train, y_test = train_test_split(X, y, test_size=0.2, random_state=20)\n",
    "\n",
    "\n",
    "lr_no_reg = LogisticRegression(C = 100.0)\n",
    "lr_reg = LogisticRegression(C = 0.1)\n",
    "\n",
    "lr_no_reg.fit(X_train, y_train)\n",
    "lr_reg.fit(X_train, y_train)\n",
    "\n",
    "plt.figure()\n",
    "plt.plot(lr_no_reg.coef_.ravel(), label = \"C = 100.0\")\n",
    "plt.plot(lr_reg.coef_.ravel(), label = \"C = 0.1\")\n",
    "plt.grid()\n",
    "plt.legend()"
   ]
  },
  {
   "cell_type": "markdown",
   "id": "c89062d8",
   "metadata": {},
   "source": [
    "What happens is that the regularization is added as term in the logistic regression loss function to be the following,\n",
    "\n",
    "$$\\text{regularized loss = original loss + large coefficient penalty}$$\n",
    "\n",
    "With no regularization, the loss only focuses on the training accuracy, thus maximizes it. While with regularization, the loss wants to minimize both the missclassification loss and at the same time have small coefficients, so you will probably find the **training** accuracy of the regularized model is less than the unregularized model."
   ]
  },
  {
   "cell_type": "code",
   "execution_count": 117,
   "id": "72e43201",
   "metadata": {},
   "outputs": [
    {
     "data": {
      "text/plain": [
       "(0.9583333333333334, 0.9666666666666667)"
      ]
     },
     "execution_count": 117,
     "metadata": {},
     "output_type": "execute_result"
    }
   ],
   "source": [
    "lr_reg.score(X_train, y_train), lr_no_reg.score(X_train, y_train)"
   ]
  },
  {
   "cell_type": "markdown",
   "id": "687363e5",
   "metadata": {},
   "source": [
    "But if we look at the accuracy of test set. You will likely to find that the regularized model gives better accuracy thatn "
   ]
  },
  {
   "cell_type": "code",
   "execution_count": 118,
   "id": "5d043637",
   "metadata": {},
   "outputs": [
    {
     "data": {
      "text/plain": [
       "(0.9666666666666667, 0.9333333333333333)"
      ]
     },
     "execution_count": 118,
     "metadata": {},
     "output_type": "execute_result"
    }
   ],
   "source": [
    "lr_reg.score(X_test, y_test), lr_no_reg.score(X_test, y_test)"
   ]
  },
  {
   "cell_type": "markdown",
   "id": "ca0df832",
   "metadata": {},
   "source": [
    "There are two types of regularization:\n",
    "\n",
    "* Lasso (L1 regularization) where the term added to the loss function is $\\boxed{\\alpha * \\sum_{i=1}^{n}|a_i|}$\n",
    "* Ridge (L2 regularization) where the term added to the loss function is $\\boxed{\\alpha * \\sum_{i=1}^{n}a_i^2}$\n",
    "\n",
    "Both are used for regularization. And Lasso is used for feature selection (check the regression notebook in the 01 - Supervised Learning with scikit-learn directory).\n",
    "\n",
    "We can specify the type of regularization in `LogisticRegression` using `penalty` argument `'l1'` for lasso and `'l2'` for ridge (which is the default)."
   ]
  },
  {
   "cell_type": "code",
   "execution_count": 143,
   "id": "f12beec9",
   "metadata": {},
   "outputs": [
    {
     "name": "stderr",
     "output_type": "stream",
     "text": [
      "c:\\users\\u\\appdata\\local\\programs\\python\\python39\\lib\\site-packages\\sklearn\\linear_model\\_logistic.py:763: ConvergenceWarning: lbfgs failed to converge (status=1):\n",
      "STOP: TOTAL NO. of ITERATIONS REACHED LIMIT.\n",
      "\n",
      "Increase the number of iterations (max_iter) or scale the data as shown in:\n",
      "    https://scikit-learn.org/stable/modules/preprocessing.html\n",
      "Please also refer to the documentation for alternative solver options:\n",
      "    https://scikit-learn.org/stable/modules/linear_model.html#logistic-regression\n",
      "  n_iter_i = _check_optimize_result(\n"
     ]
    },
    {
     "data": {
      "text/plain": [
       "<matplotlib.legend.Legend at 0x2001b49fb80>"
      ]
     },
     "execution_count": 143,
     "metadata": {},
     "output_type": "execute_result"
    },
    {
     "data": {
      "image/png": "[encoded data removed]",
      "text/plain": [
       "<Figure size 864x360 with 1 Axes>"
      ]
     },
     "metadata": {
      "needs_background": "light"
     },
     "output_type": "display_data"
    }
   ],
   "source": [
    "import numpy as np\n",
    "\n",
    "lr_l1 = LogisticRegression(penalty='l1', solver=\"liblinear\")\n",
    "lr_l2 = LogisticRegression(penalty='l2')\n",
    "\n",
    "lr_l1.fit(X_train, y_train)\n",
    "lr_l2.fit(X_train, y_train)\n",
    "\n",
    "plt.figure(figsize=(12, 5))\n",
    "x_axis = np.arange(len(lr_l1.coef_.ravel()))\n",
    "plt.bar(x_axis - 0.2, lr_l1.coef_.ravel(), width = 0.4, label = \"L1\")\n",
    "plt.bar(x_axis + 0.2, lr_l2.coef_.ravel(), width = 0.4, label = \"L2\", color = \"r\")\n",
    "plt.xticks(x_axis, [\"{}\".format(x) for x in x_axis])\n",
    "plt.grid()\n",
    "plt.legend()"
   ]
  },
  {
   "cell_type": "markdown",
   "id": "9793a011",
   "metadata": {},
   "source": [
    "We can see that lasso (L1) makes a lot of coefficients equal to 0 (ignoring these features) so it is used for feautre selection. While ridge minimizes them but not setting them to 0."
   ]
  },
  {
   "cell_type": "markdown",
   "id": "a6d294a6",
   "metadata": {},
   "source": [
    "## Logistic Regression and Probilities"
   ]
  },
  {
   "cell_type": "code",
   "execution_count": 229,
   "id": "d66a47aa",
   "metadata": {},
   "outputs": [],
   "source": [
    "def make_meshgrid(X, y, step = 0.02):\n",
    "    x_min, x_max = X.min() - 1, X.max() + 1\n",
    "    y_min, y_max = y.min() - 1, y.max() + 1\n",
    "    xx, yy = np.meshgrid(np.arange(x_min, x_max, step), np.arange(y_min, y_max, step))\n",
    "    return xx, yy\n",
    "\n",
    "def plot_contours(ax, classifier, xx, yy, **params_kwargs):\n",
    "    z = classifier.predict_proba(np.c_[xx.ravel(), yy.ravel()])[:, 1] # get the probability of class-1\n",
    "    z = z.reshape(xx.shape)\n",
    "    out = ax.contourf(xx, yy, z, **params_kwargs)\n",
    "    return out"
   ]
  },
  {
   "cell_type": "code",
   "execution_count": 230,
   "id": "e70c6a27",
   "metadata": {},
   "outputs": [],
   "source": [
    "from sklearn.datasets import load_breast_cancer\n",
    "\n",
    "X = load_breast_cancer().data[:, :2]\n",
    "y = load_breast_cancer().target"
   ]
  },
  {
   "cell_type": "code",
   "execution_count": 231,
   "id": "18b1d6a0",
   "metadata": {},
   "outputs": [
    {
     "data": {
      "text/plain": [
       "LogisticRegression()"
      ]
     },
     "execution_count": 231,
     "metadata": {},
     "output_type": "execute_result"
    }
   ],
   "source": [
    "lr = LogisticRegression()\n",
    "lr.fit(X, y)"
   ]
  },
  {
   "cell_type": "code",
   "execution_count": 232,
   "id": "4064b795",
   "metadata": {},
   "outputs": [],
   "source": [
    "xx, yy = make_meshgrid(X[:, 0], X[:, 1])"
   ]
  },
  {
   "cell_type": "code",
   "execution_count": 245,
   "id": "6e024293",
   "metadata": {},
   "outputs": [
    {
     "data": {
      "text/plain": [
       "<matplotlib.colorbar.Colorbar at 0x2001b8c99d0>"
      ]
     },
     "execution_count": 245,
     "metadata": {},
     "output_type": "execute_result"
    },
    {
     "data": {
      "image/png": "[encoded data removed]",
      "text/plain": [
       "<Figure size 432x288 with 2 Axes>"
      ]
     },
     "metadata": {
      "needs_background": "light"
     },
     "output_type": "display_data"
    }
   ],
   "source": [
    "fig, ax = plt.subplots()\n",
    "x0, x1 = X[:, 0], X[:, 1]\n",
    "out = plot_contours(ax, lr, xx, yy, cmap=\"RdBu_r\")\n",
    "ax.scatter(x0, x1, c=y, cmap=plt.cm.coolwarm, edgecolors=\"black\")\n",
    "fig.colorbar(out)"
   ]
  },
  {
   "cell_type": "markdown",
   "id": "f519ecc3",
   "metadata": {},
   "source": [
    "For this figure, the plot is filled with the probablity of the class 1. Blue represent that the probablity is less than 0.5 and red is for over 0.5. The logistic regression takes the raw output model comming from the decision boundary and get the probability using the **sigmoid function**.\n",
    "\n",
    "$$\\sigma(x) = \\frac{1}{1+e^{-x}}$$"
   ]
  },
  {
   "cell_type": "code",
   "execution_count": 246,
   "id": "b1147831",
   "metadata": {},
   "outputs": [],
   "source": [
    "def sigmoid(x):\n",
    "    return 1 / (1 + np.exp(-x))"
   ]
  },
  {
   "cell_type": "code",
   "execution_count": 265,
   "id": "ad8415a3",
   "metadata": {},
   "outputs": [
    {
     "data": {
      "image/png": "[encoded data removed]",
      "text/plain": [
       "<Figure size 432x288 with 1 Axes>"
      ]
     },
     "metadata": {
      "needs_background": "light"
     },
     "output_type": "display_data"
    }
   ],
   "source": [
    "x = np.linspace(-10, 10, 100)\n",
    "plt.plot(x, sigmoid(x))\n",
    "plt.axvline(x=0, color = \"k\", linestyle=\"--\", alpha = 0.2)\n",
    "plt.hlines(y = 0.5, xmin=-11, xmax=11, color = \"k\", linestyles=\"--\", alpha = 0.2)\n",
    "plt.yticks(np.arange(0, 1.1, 0.1));"
   ]
  },
  {
   "cell_type": "markdown",
   "id": "2052f144",
   "metadata": {},
   "source": [
    "The sigmoid function outputs a probability greater than 0.5 if the input to the sigmoid (raw model output) is positive, and vice versa.\n",
    "\n",
    "For binary classification, if the output of the sigmoid function (final model output) is greater than 0.5 predict class 1, and if less than 0.5, predict class 0."
   ]
  },
  {
   "cell_type": "markdown",
   "id": "364d9b11",
   "metadata": {},
   "source": [
    "## Multi-class Logistic Regression\n",
    "\n",
    "If the target has more than 2 class, this is a multi-class classification problems. As most of our talk is about the binary classification, we can do the following for the multi-class tasks:"
   ]
  },
  {
   "cell_type": "markdown",
   "id": "2a373f29",
   "metadata": {},
   "source": [
    "1. Create a binary classifier (using sigmoid) with one-vs-rest approach\n",
    "\n",
    "In one-vs-rest, we train a binary classifier for each class of the target where for every classifier, the target class of that classifier becomes class-1 (positive class) and other than that is class 0. For a target of 3 classes, we fit three classifiers for each of the three classes.\n",
    "\n",
    "```py\n",
    "lr_class0.fit(X, y==0)\n",
    "lr_class1.fit(X, y==1)\n",
    "lr_class2.fit(X, y==2)\n",
    "```\n",
    "\n",
    "To get the final output, we take the positive class of the classifier that returns the **largest** raw output value.\n",
    "\n",
    "We can get the raw output value through the method `decision_function`."
   ]
  },
  {
   "cell_type": "code",
   "execution_count": 267,
   "id": "defb6ab0",
   "metadata": {},
   "outputs": [
    {
     "name": "stdout",
     "output_type": "stream",
     "text": [
      "The number of classes is 3\n"
     ]
    }
   ],
   "source": [
    "from sklearn.datasets import load_iris\n",
    "\n",
    "iris = load_iris()\n",
    "X = iris.data\n",
    "y = iris.target\n",
    "print(\"The number of classes is {}\".format(len(np.unique(y))))"
   ]
  },
  {
   "cell_type": "code",
   "execution_count": 268,
   "id": "ceedf954",
   "metadata": {},
   "outputs": [
    {
     "data": {
      "text/plain": [
       "LogisticRegression()"
      ]
     },
     "execution_count": 268,
     "metadata": {},
     "output_type": "execute_result"
    }
   ],
   "source": [
    "lr_class0 = LogisticRegression()\n",
    "lr_class1 = LogisticRegression()\n",
    "lr_class2 = LogisticRegression()\n",
    "\n",
    "lr_class0.fit(X, y==0)\n",
    "lr_class1.fit(X, y==1)\n",
    "lr_class2.fit(X, y==2)"
   ]
  },
  {
   "cell_type": "code",
   "execution_count": 270,
   "id": "6954cbf1",
   "metadata": {},
   "outputs": [
    {
     "name": "stdout",
     "output_type": "stream",
     "text": [
      "4.1231645773006464\n",
      "-2.05814819013127\n",
      "-13.65294998632556\n"
     ]
    }
   ],
   "source": [
    "print(lr_class0.decision_function(X)[0]) # get the decision function output (raw output) from the first example\n",
    "print(lr_class1.decision_function(X)[0])\n",
    "print(lr_class2.decision_function(X)[0])"
   ]
  },
  {
   "cell_type": "markdown",
   "id": "78c68ed9",
   "metadata": {},
   "source": [
    "The decision function gives largest raw output for classifier 0, so we predict that the first example is for class 0."
   ]
  },
  {
   "cell_type": "code",
   "execution_count": 271,
   "id": "1a4f1a3b",
   "metadata": {},
   "outputs": [
    {
     "data": {
      "text/plain": [
       "0"
      ]
     },
     "execution_count": 271,
     "metadata": {},
     "output_type": "execute_result"
    }
   ],
   "source": [
    "y[0]"
   ]
  },
  {
   "cell_type": "markdown",
   "id": "3ed84b40",
   "metadata": {},
   "source": [
    "`sklearn` by default handles the multi-class tasks using one-vs-rest approach."
   ]
  },
  {
   "cell_type": "code",
   "execution_count": 273,
   "id": "f8ecfeb2",
   "metadata": {},
   "outputs": [
    {
     "name": "stderr",
     "output_type": "stream",
     "text": [
      "c:\\users\\u\\appdata\\local\\programs\\python\\python39\\lib\\site-packages\\sklearn\\linear_model\\_logistic.py:763: ConvergenceWarning: lbfgs failed to converge (status=1):\n",
      "STOP: TOTAL NO. of ITERATIONS REACHED LIMIT.\n",
      "\n",
      "Increase the number of iterations (max_iter) or scale the data as shown in:\n",
      "    https://scikit-learn.org/stable/modules/preprocessing.html\n",
      "Please also refer to the documentation for alternative solver options:\n",
      "    https://scikit-learn.org/stable/modules/linear_model.html#logistic-regression\n",
      "  n_iter_i = _check_optimize_result(\n"
     ]
    },
    {
     "data": {
      "text/plain": [
       "array([0])"
      ]
     },
     "execution_count": 273,
     "metadata": {},
     "output_type": "execute_result"
    }
   ],
   "source": [
    "lr_multi_class = LogisticRegression()\n",
    "lr_multi_class.fit(X, y)\n",
    "lr_multi_class.predict(X[0].reshape(1, -1))"
   ]
  },
  {
   "cell_type": "markdown",
   "id": "c1e27397",
   "metadata": {},
   "source": [
    "2. We can change the activation function instead of sigmoid to be softmax\n",
    "\n",
    "Here we use one classifier and output different raw outputs for each example for each class. The sigmoid function output probability of each class $k$ (let's say of $K$ classes) using the following formula,\n",
    "\n",
    "$$ \\text{softmax}(x) = [\\text{softmax}_1(x), \\text{softmax}_1(x), \\cdots, \\text{softmax}_K(x)]$$\n",
    "$$ \\text{softmax}_k(x) = P(y = k|x) = \\frac{e^{w_k * x + b_k}}{\\sum_{i = 1}^K e^{w_i * x + b_i}} $$\n",
    "\n",
    "where $w_k$ and $b_i$ is the set of coefficients and intercept assigned to class $k$. This comes with pros and cons.\n",
    "\n",
    "<img src = \"assets/images/one-vs-rest\" height = \"700\" width = \"700\">"
   ]
  },
  {
   "cell_type": "markdown",
   "id": "0f8bc462",
   "metadata": {},
   "source": [
    "When using logistic regression for multi-class classification, a number of coefficients of **the number of target classes multiplied by the number of features** is calculated in form of matrix. The number of intercepts is the **number of target classes**. This is valid for both one-vs-rest and softmax classification."
   ]
  },
  {
   "cell_type": "code",
   "execution_count": 275,
   "id": "941528e6",
   "metadata": {},
   "outputs": [
    {
     "name": "stderr",
     "output_type": "stream",
     "text": [
      "c:\\users\\u\\appdata\\local\\programs\\python\\python39\\lib\\site-packages\\sklearn\\linear_model\\_logistic.py:763: ConvergenceWarning: lbfgs failed to converge (status=1):\n",
      "STOP: TOTAL NO. of ITERATIONS REACHED LIMIT.\n",
      "\n",
      "Increase the number of iterations (max_iter) or scale the data as shown in:\n",
      "    https://scikit-learn.org/stable/modules/preprocessing.html\n",
      "Please also refer to the documentation for alternative solver options:\n",
      "    https://scikit-learn.org/stable/modules/linear_model.html#logistic-regression\n",
      "  n_iter_i = _check_optimize_result(\n"
     ]
    },
    {
     "data": {
      "text/plain": [
       "LogisticRegression()"
      ]
     },
     "execution_count": 275,
     "metadata": {},
     "output_type": "execute_result"
    }
   ],
   "source": [
    "lr_ovr = LogisticRegression()\n",
    "lr_ovr.fit(X, y)"
   ]
  },
  {
   "cell_type": "code",
   "execution_count": 276,
   "id": "71578b57",
   "metadata": {},
   "outputs": [
    {
     "name": "stdout",
     "output_type": "stream",
     "text": [
      "Coefficient size: (3, 4)\n",
      "[[-0.4193722   0.96745346 -2.52061278 -1.0843117 ]\n",
      " [ 0.53145055 -0.3149938  -0.20086391 -0.94793033]\n",
      " [-0.11207835 -0.65245966  2.72147669  2.03224203]]\n"
     ]
    }
   ],
   "source": [
    "print(\"Coefficient size: {}\\n{}\".format(lr_ovr.coef_.shape, lr_ovr.coef_))"
   ]
  },
  {
   "cell_type": "markdown",
   "id": "faeda348",
   "metadata": {},
   "source": [
    "To specify the softmax classification for logistic regression, we specify the hyperparameter `multi_class` to be `multinomial`."
   ]
  },
  {
   "cell_type": "code",
   "execution_count": 285,
   "id": "e7fe312e",
   "metadata": {},
   "outputs": [
    {
     "name": "stderr",
     "output_type": "stream",
     "text": [
      "c:\\users\\u\\appdata\\local\\programs\\python\\python39\\lib\\site-packages\\sklearn\\linear_model\\_logistic.py:763: ConvergenceWarning: lbfgs failed to converge (status=1):\n",
      "STOP: TOTAL NO. of ITERATIONS REACHED LIMIT.\n",
      "\n",
      "Increase the number of iterations (max_iter) or scale the data as shown in:\n",
      "    https://scikit-learn.org/stable/modules/preprocessing.html\n",
      "Please also refer to the documentation for alternative solver options:\n",
      "    https://scikit-learn.org/stable/modules/linear_model.html#logistic-regression\n",
      "  n_iter_i = _check_optimize_result(\n"
     ]
    },
    {
     "data": {
      "text/plain": [
       "LogisticRegression(multi_class='multinomial')"
      ]
     },
     "execution_count": 285,
     "metadata": {},
     "output_type": "execute_result"
    }
   ],
   "source": [
    "lr_multinomial = LogisticRegression(multi_class = \"multinomial\")\n",
    "lr_multinomial.fit(X, y)"
   ]
  },
  {
   "cell_type": "code",
   "execution_count": 286,
   "id": "856adf81",
   "metadata": {},
   "outputs": [
    {
     "name": "stdout",
     "output_type": "stream",
     "text": [
      "Coefficient size: (3, 4)\n",
      "[[-0.4193722   0.96745346 -2.52061278 -1.0843117 ]\n",
      " [ 0.53145055 -0.3149938  -0.20086391 -0.94793033]\n",
      " [-0.11207835 -0.65245966  2.72147669  2.03224203]]\n"
     ]
    }
   ],
   "source": [
    "print(\"Coefficient size: {}\\n{}\".format(lr_multinomial.coef_.shape, lr_multinomial.coef_))"
   ]
  }
 ],
 "metadata": {
  "kernelspec": {
   "display_name": "Python 3 (ipykernel)",
   "language": "python",
   "name": "python3"
  },
  "language_info": {
   "codemirror_mode": {
    "name": "ipython",
    "version": 3
   },
   "file_extension": ".py",
   "mimetype": "text/x-python",
   "name": "python",
   "nbconvert_exporter": "python",
   "pygments_lexer": "ipython3",
   "version": "3.9.6"
  }
 },
 "nbformat": 4,
 "nbformat_minor": 5
}
