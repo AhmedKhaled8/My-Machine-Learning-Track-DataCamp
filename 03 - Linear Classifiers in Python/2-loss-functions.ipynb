{
 "cells": [
  {
   "cell_type": "markdown",
   "id": "f278fc15",
   "metadata": {},
   "source": [
    "# Loss Functions\n",
    "---\n",
    "\n",
    "In this notebook, we will learn about some details behind the logisitc regression and SVMs of how they are trained and how they predict."
   ]
  },
  {
   "cell_type": "markdown",
   "id": "380ea3ca",
   "metadata": {},
   "source": [
    "## Coefficients and Prediction Equations\n",
    "\n",
    "For linear classifiers, the linear decision boundary is given by the following equation\n",
    "\n",
    "$$\n",
    "coefficients \\cdot features + intercept = 0\n",
    "$$\n",
    "\n",
    "And the prediction of a binary classification depends on the sign of the output of the decision boundary equation:\n",
    "\n",
    "* if it is positive (i.e., $coefficients \\cdot features + intercept > 0$, the target prediction is the positive class.\n",
    "* if it is negative (i.e., $coefficients \\cdot features + intercept < 0$, the target prediction is the negative (other) class.\n",
    "\n",
    "The way the Logisitc regression and linear SVM learns and determines the coefficients and the intercept is different. But the prediction is the same, depending on the sign of the raw output."
   ]
  },
  {
   "cell_type": "markdown",
   "id": "8f60857d",
   "metadata": {},
   "source": [
    "Let's take a look using logistic regression and the breast cancer data."
   ]
  },
  {
   "cell_type": "code",
   "execution_count": 3,
   "id": "58166602",
   "metadata": {},
   "outputs": [],
   "source": [
    "from sklearn.datasets import load_breast_cancer\n",
    "\n",
    "cancer_data = load_breast_cancer()\n",
    "X, y = cancer_data.data, cancer_data.target"
   ]
  },
  {
   "cell_type": "code",
   "execution_count": 4,
   "id": "c3070856",
   "metadata": {},
   "outputs": [
    {
     "data": {
      "text/plain": [
       "(569, 30)"
      ]
     },
     "execution_count": 4,
     "metadata": {},
     "output_type": "execute_result"
    }
   ],
   "source": [
    "X.shape"
   ]
  },
  {
   "cell_type": "code",
   "execution_count": 7,
   "id": "fc6ff477",
   "metadata": {},
   "outputs": [
    {
     "name": "stderr",
     "output_type": "stream",
     "text": [
      "c:\\users\\u\\appdata\\local\\programs\\python\\python39\\lib\\site-packages\\sklearn\\linear_model\\_logistic.py:763: ConvergenceWarning: lbfgs failed to converge (status=1):\n",
      "STOP: TOTAL NO. of ITERATIONS REACHED LIMIT.\n",
      "\n",
      "Increase the number of iterations (max_iter) or scale the data as shown in:\n",
      "    https://scikit-learn.org/stable/modules/preprocessing.html\n",
      "Please also refer to the documentation for alternative solver options:\n",
      "    https://scikit-learn.org/stable/modules/linear_model.html#logistic-regression\n",
      "  n_iter_i = _check_optimize_result(\n"
     ]
    },
    {
     "data": {
      "text/plain": [
       "array([0])"
      ]
     },
     "execution_count": 7,
     "metadata": {},
     "output_type": "execute_result"
    }
   ],
   "source": [
    "from sklearn.linear_model import LogisticRegression\n",
    "\n",
    "lr = LogisticRegression()\n",
    "lr.fit(X, y)\n",
    "lr.predict(X[0].reshape(1, -1))"
   ]
  },
  {
   "cell_type": "markdown",
   "id": "fe71c9a8",
   "metadata": {},
   "source": [
    "For the 10th example, the logisitc regression predicts class 0. If we take a look on the coefficients and the intercept the model learnt"
   ]
  },
  {
   "cell_type": "code",
   "execution_count": 8,
   "id": "04ec265e",
   "metadata": {},
   "outputs": [
    {
     "data": {
      "text/plain": [
       "array([[ 1.23178954,  0.51064487,  0.13641129, -0.01349396, -0.04849279,\n",
       "        -0.22310055, -0.31201834, -0.13209813, -0.06717637, -0.01348658,\n",
       "         0.05408529,  0.52790825,  0.22938851, -0.12036012, -0.00437079,\n",
       "        -0.04697503, -0.06588397, -0.01710445, -0.01616921, -0.00438334,\n",
       "         1.30739872, -0.50852254, -0.23434145, -0.01350182, -0.08734264,\n",
       "        -0.69059258, -0.85959629, -0.25322892, -0.21111878, -0.06702401]])"
      ]
     },
     "execution_count": 8,
     "metadata": {},
     "output_type": "execute_result"
    }
   ],
   "source": [
    "lr.coef_"
   ]
  },
  {
   "cell_type": "code",
   "execution_count": 9,
   "id": "493a6d06",
   "metadata": {},
   "outputs": [
    {
     "data": {
      "text/plain": [
       "array([0.23323045])"
      ]
     },
     "execution_count": 9,
     "metadata": {},
     "output_type": "execute_result"
    }
   ],
   "source": [
    "lr.intercept_"
   ]
  },
  {
   "cell_type": "markdown",
   "id": "d1520882",
   "metadata": {},
   "source": [
    "and we applied our decision boundary function using those values and embedding the 10th example"
   ]
  },
  {
   "cell_type": "code",
   "execution_count": 10,
   "id": "07739678",
   "metadata": {},
   "outputs": [
    {
     "data": {
      "text/plain": [
       "array([-32.63173486])"
      ]
     },
     "execution_count": 10,
     "metadata": {},
     "output_type": "execute_result"
    }
   ],
   "source": [
    "lr.coef_ @ X[0] + lr.intercept_"
   ]
  },
  {
   "cell_type": "markdown",
   "id": "e876cf04",
   "metadata": {},
   "source": [
    "> `@` represent the dot product"
   ]
  },
  {
   "cell_type": "markdown",
   "id": "ce7c598c",
   "metadata": {},
   "source": [
    "we see that the raw output is negative, thus the model predicts it is the other class (class-0). For the 20th example,"
   ]
  },
  {
   "cell_type": "code",
   "execution_count": 13,
   "id": "3ecc69a9",
   "metadata": {},
   "outputs": [
    {
     "data": {
      "text/plain": [
       "array([1])"
      ]
     },
     "execution_count": 13,
     "metadata": {},
     "output_type": "execute_result"
    }
   ],
   "source": [
    "lr.predict(X[20].reshape(1, -1))"
   ]
  },
  {
   "cell_type": "code",
   "execution_count": 14,
   "id": "81dff620",
   "metadata": {},
   "outputs": [
    {
     "data": {
      "text/plain": [
       "array([4.96924809])"
      ]
     },
     "execution_count": 14,
     "metadata": {},
     "output_type": "execute_result"
    }
   ],
   "source": [
    "lr.coef_ @ X[20] + lr.intercept_"
   ]
  },
  {
   "cell_type": "markdown",
   "id": "d3633a4e",
   "metadata": {},
   "source": [
    "We see that the raw output is positive thus predicting the positive class (class-1)."
   ]
  },
  {
   "cell_type": "markdown",
   "id": "0f763768",
   "metadata": {},
   "source": [
    "## Loss Function\n",
    "\n",
    "The loss function is the function that our models tries to minimize to get the optimal set of coefficients and intercept that best fit our data. For example, the loss function for the linear regressor is\n",
    "\n",
    "$$\n",
    "\\sum_{i=1}^{n} \\left( y^{[i]} - \\hat{y}^{[i]} \\right) ^2\n",
    "$$\n",
    "\n",
    "However in classification problems, this is not the best option for our categorized target. A propsed loss function is the 0-1 loss is the 0-1 loss which tells the number of the errors (misclassifications) which returns 0 for a correct classify and 1 for a misclassify.\n",
    "\n",
    "However, it is very hard to minimize.\n",
    "\n",
    "We can minimize any function using the `optimize` module from `scipy` package as it contains the function `minimize`."
   ]
  },
  {
   "cell_type": "code",
   "execution_count": 15,
   "id": "8122aa60",
   "metadata": {},
   "outputs": [],
   "source": [
    "from scipy.optimize import minimize\n",
    "import numpy as np"
   ]
  },
  {
   "cell_type": "code",
   "execution_count": 16,
   "id": "af8a6408",
   "metadata": {},
   "outputs": [
    {
     "data": {
      "text/plain": [
       "array([0.])"
      ]
     },
     "execution_count": 16,
     "metadata": {},
     "output_type": "execute_result"
    }
   ],
   "source": [
    "minimize(np.square, 0).x"
   ]
  },
  {
   "cell_type": "markdown",
   "id": "8547b2b2",
   "metadata": {},
   "source": [
    "For\n",
    "\n",
    "```py\n",
    "minimize(np.square, 0).x\n",
    "```\n",
    "* `np.square` is the function we want to minimize ($y = x^2$)\n",
    "* 0 is our initial guess $x_0$\n",
    "* `x` to access the $x$ (input) value that minimizes this function\n",
    "* `array([0.])` is the value of input that minimizes the function"
   ]
  },
  {
   "cell_type": "markdown",
   "id": "b75c4eb5",
   "metadata": {},
   "source": [
    "But already our initial guess is input of the minima of the function, let's try other values."
   ]
  },
  {
   "cell_type": "code",
   "execution_count": 17,
   "id": "0b5a7072",
   "metadata": {},
   "outputs": [
    {
     "data": {
      "text/plain": [
       "array([-8.16599388e-09])"
      ]
     },
     "execution_count": 17,
     "metadata": {},
     "output_type": "execute_result"
    }
   ],
   "source": [
    "minimize(np.square, 4).x"
   ]
  },
  {
   "cell_type": "markdown",
   "id": "617d1d1a",
   "metadata": {},
   "source": [
    "Not exactly 0, but very very close to it which is OK for us."
   ]
  },
  {
   "cell_type": "markdown",
   "id": "d960a1a6",
   "metadata": {},
   "source": [
    "Let's try using some data. We will use the boston housing data for optimizing the loss function of the linear regression and will compare it to the coefficients of the `sklearn` linear regression class."
   ]
  },
  {
   "cell_type": "code",
   "execution_count": 23,
   "id": "fe2ea34f",
   "metadata": {},
   "outputs": [],
   "source": [
    "from sklearn.datasets import load_boston\n",
    "\n",
    "X, y = load_boston().data, load_boston().target\n",
    "\n",
    "def linear_regression_cost_function(w):\n",
    "    cost = 0\n",
    "    for i in range(y.shape[0]):\n",
    "        true_value = y[i]\n",
    "        predicted_value = w @ X[i] # neglect the intercept for now\n",
    "        cost += (true_value - predicted_value) ** 2\n",
    "    return cost"
   ]
  },
  {
   "cell_type": "code",
   "execution_count": 25,
   "id": "ae6b54be",
   "metadata": {},
   "outputs": [
    {
     "data": {
      "text/plain": [
       "array([-9.28967654e-02,  4.87153522e-02, -4.05706784e-03,  2.85398641e+00,\n",
       "       -2.86834921e+00,  5.92815263e+00, -7.26947239e-03, -9.68514449e-01,\n",
       "        1.71156366e-01, -9.39664771e-03, -3.92187354e-01,  1.49054810e-02,\n",
       "       -4.16304275e-01])"
      ]
     },
     "execution_count": 25,
     "metadata": {},
     "output_type": "execute_result"
    }
   ],
   "source": [
    "w_optimal = minimize(linear_regression_cost_function, X[0]).x\n",
    "\n",
    "w_optimal"
   ]
  },
  {
   "cell_type": "code",
   "execution_count": 27,
   "id": "91c3aa8b",
   "metadata": {},
   "outputs": [
    {
     "data": {
      "text/plain": [
       "array([-9.28965170e-02,  4.87149552e-02, -4.05997958e-03,  2.85399882e+00,\n",
       "       -2.86843637e+00,  5.92814778e+00, -7.26933458e-03, -9.68514157e-01,\n",
       "        1.71151128e-01, -9.39621540e-03, -3.92190926e-01,  1.49056102e-02,\n",
       "       -4.16304471e-01])"
      ]
     },
     "execution_count": 27,
     "metadata": {},
     "output_type": "execute_result"
    }
   ],
   "source": [
    "from sklearn.linear_model import LinearRegression\n",
    "\n",
    "lin_reg = LinearRegression(fit_intercept=False)\n",
    "lin_reg.fit(X, y)\n",
    "lin_reg.coef_"
   ]
  },
  {
   "cell_type": "markdown",
   "id": "8961736d",
   "metadata": {},
   "source": [
    "Very close."
   ]
  },
  {
   "cell_type": "markdown",
   "id": "961dcc68",
   "metadata": {},
   "source": [
    "## Loss Function Diagram\n",
    "\n",
    "Let's take a look on the loss function we talked about from a visualization prespective."
   ]
  },
  {
   "cell_type": "code",
   "execution_count": 28,
   "id": "327a6e53",
   "metadata": {},
   "outputs": [],
   "source": [
    "import matplotlib.pyplot as plt\n",
    "%matplotlib inline"
   ]
  },
  {
   "cell_type": "code",
   "execution_count": 35,
   "id": "45d8c80e",
   "metadata": {},
   "outputs": [
    {
     "data": {
      "text/plain": [
       "Text(0.5, 0, 'Model Raw Output')"
      ]
     },
     "execution_count": 35,
     "metadata": {},
     "output_type": "execute_result"
    },
    {
     "data": {
      "image/png": "[encoded data removed]",
      "text/plain": [
       "<Figure size 432x288 with 1 Axes>"
      ]
     },
     "metadata": {
      "needs_background": "light"
     },
     "output_type": "display_data"
    }
   ],
   "source": [
    "plt.figure()\n",
    "plt.xlim(-2, 2)\n",
    "plt.ylim(0, 3)\n",
    "plt.fill_between(np.linspace(-2, 0, 100), np.array([0] * 100), np.array([3] * 100), alpha = 0.2, color = \"r\")\n",
    "plt.fill_between(np.linspace(0, 2, 100), np.array([0] * 100), np.array([3] * 100), alpha = 0.2, color = \"b\")\n",
    "plt.ylabel(\"Loss\")\n",
    "plt.xlabel(\"Model Raw Output\")"
   ]
  },
  {
   "cell_type": "markdown",
   "id": "6d2cf9b6",
   "metadata": {},
   "source": [
    "For the 0-1 loss for an example of target class-1,"
   ]
  },
  {
   "cell_type": "code",
   "execution_count": 43,
   "id": "d9cb1735",
   "metadata": {},
   "outputs": [
    {
     "data": {
      "text/plain": [
       "Text(0.5, 0, 'Model Raw Output')"
      ]
     },
     "execution_count": 43,
     "metadata": {},
     "output_type": "execute_result"
    },
    {
     "data": {
      "image/png": "[encoded data removed]",
      "text/plain": [
       "<Figure size 432x288 with 1 Axes>"
      ]
     },
     "metadata": {
      "needs_background": "light"
     },
     "output_type": "display_data"
    }
   ],
   "source": [
    "plt.figure()\n",
    "plt.xlim(-2, 2)\n",
    "plt.ylim(0, 3)\n",
    "plt.fill_between(np.linspace(-2, 0, 100), np.array([0] * 100), np.array([3] * 100), alpha = 0.2, color = \"r\")\n",
    "plt.fill_between(np.linspace(0, 2, 100), np.array([0] * 100), np.array([3] * 100), alpha = 0.2, color = \"b\")\n",
    "plt.plot(np.linspace(-2, 2, 100), np.sign(np.linspace(-2, 2, 100)) == -1, color = \"k\", linewidth = 3) # if it is negative output, it is a misclassification\n",
    "plt.ylabel(\"Loss\")\n",
    "plt.xlabel(\"Model Raw Output\")"
   ]
  },
  {
   "cell_type": "markdown",
   "id": "3cc68455",
   "metadata": {},
   "source": [
    "We can see that that function works well for our classification problem, but it has so many minimas so it is not easy to minimize."
   ]
  },
  {
   "cell_type": "markdown",
   "id": "d8a09711",
   "metadata": {},
   "source": [
    "For linear regression cost function."
   ]
  },
  {
   "cell_type": "code",
   "execution_count": 44,
   "id": "fac990e5",
   "metadata": {},
   "outputs": [
    {
     "data": {
      "text/plain": [
       "Text(0.5, 0, 'Model Raw Output')"
      ]
     },
     "execution_count": 44,
     "metadata": {},
     "output_type": "execute_result"
    },
    {
     "data": {
      "image/png": "[encoded data removed]",
      "text/plain": [
       "<Figure size 432x288 with 1 Axes>"
      ]
     },
     "metadata": {
      "needs_background": "light"
     },
     "output_type": "display_data"
    }
   ],
   "source": [
    "plt.figure()\n",
    "plt.xlim(-2, 2)\n",
    "plt.ylim(0, 3)\n",
    "plt.fill_between(np.linspace(-2, 0, 100), np.array([0] * 100), np.array([3] * 100), alpha = 0.2, color = \"r\")\n",
    "plt.fill_between(np.linspace(0, 2, 100), np.array([0] * 100), np.array([3] * 100), alpha = 0.2, color = \"b\")\n",
    "plt.plot(np.linspace(-2, 2, 100), np.square(np.linspace(-2, 2, 100) - 1), color = \"k\", linewidth = 3)\n",
    "plt.ylabel(\"Loss\")\n",
    "plt.xlabel(\"Model Raw Output\")"
   ]
  },
  {
   "cell_type": "markdown",
   "id": "73f52647",
   "metadata": {},
   "source": [
    "We can see that it has one minima, but for larger positive values (after minima), the loss increases which isn't valid for our classification problem. "
   ]
  },
  {
   "cell_type": "markdown",
   "id": "b6feecc8",
   "metadata": {},
   "source": [
    "If we used the following loss function,\n",
    "\n",
    "$$\n",
    "- \\sum_{i=1}^{n} \\left( y^{[i]} log (\\hat{y}^{[i]}) + (1 - y^{[i]}) log (1 - \\hat{y}^{[i]}) \\right)\n",
    "$$\n",
    "\n",
    "where $\\hat{y}^{[i]}$ is the sigmoid of the raw output."
   ]
  },
  {
   "cell_type": "code",
   "execution_count": 83,
   "id": "4f3fe3e4",
   "metadata": {},
   "outputs": [],
   "source": [
    "def sigmoid(x):\n",
    "    return 1 / (1 + np.exp(-x))"
   ]
  },
  {
   "cell_type": "code",
   "execution_count": 84,
   "id": "c1432257",
   "metadata": {},
   "outputs": [
    {
     "data": {
      "text/plain": [
       "Text(0.5, 0, 'Model Raw Output')"
      ]
     },
     "execution_count": 84,
     "metadata": {},
     "output_type": "execute_result"
    },
    {
     "data": {
      "image/png": "[encoded data removed]",
      "text/plain": [
       "<Figure size 432x288 with 1 Axes>"
      ]
     },
     "metadata": {
      "needs_background": "light"
     },
     "output_type": "display_data"
    }
   ],
   "source": [
    "plt.figure()\n",
    "plt.xlim(-2, 2)\n",
    "plt.ylim(0, 3)\n",
    "plt.fill_between(np.linspace(-2, 0, 100), np.array([0] * 100), np.array([3] * 100), alpha = 0.2, color = \"r\")\n",
    "plt.fill_between(np.linspace(0, 2, 100), np.array([0] * 100), np.array([3] * 100), alpha = 0.2, color = \"b\")\n",
    "x = np.linspace(-2, 2, 100)\n",
    "raw_output_loss = - (np.array([1] * 100) * np.log(sigmoid(x)) + np.array([0] * 100) * np.log(1 - sigmoid(x)))\n",
    "plt.plot(np.linspace(-2, 2, 100), raw_output_loss, color = \"k\", linewidth = 3)\n",
    "plt.ylabel(\"Loss\")\n",
    "plt.xlabel(\"Model Raw Output\")"
   ]
  },
  {
   "cell_type": "markdown",
   "id": "c9000f48",
   "metadata": {},
   "source": [
    "seems logical for our classification problem and easy to minimize."
   ]
  },
  {
   "cell_type": "markdown",
   "id": "252bf81f",
   "metadata": {},
   "source": [
    "For SVM, a proposed loss function is the hinge loss."
   ]
  },
  {
   "cell_type": "code",
   "execution_count": 89,
   "id": "804cf4b4",
   "metadata": {},
   "outputs": [
    {
     "data": {
      "text/plain": [
       "Text(0.5, 0, 'Model Raw Output')"
      ]
     },
     "execution_count": 89,
     "metadata": {},
     "output_type": "execute_result"
    },
    {
     "data": {
      "image/png": "[encoded data removed]",
      "text/plain": [
       "<Figure size 432x288 with 1 Axes>"
      ]
     },
     "metadata": {
      "needs_background": "light"
     },
     "output_type": "display_data"
    }
   ],
   "source": [
    "plt.figure()\n",
    "plt.xlim(-2, 2)\n",
    "plt.ylim(0, 3)\n",
    "plt.fill_between(np.linspace(-2, 0, 100), np.array([0] * 100), np.array([3] * 100), alpha = 0.2, color = \"r\")\n",
    "plt.fill_between(np.linspace(0, 2, 100), np.array([0] * 100), np.array([3] * 100), alpha = 0.2, color = \"b\")\n",
    "x = np.linspace(-2, 2, 100)\n",
    "raw_output_loss = np.maximum(np.array([0]*100), 1 - x)\n",
    "plt.plot(np.linspace(-2, 2, 100), raw_output_loss, color = \"k\", linewidth = 3)\n",
    "plt.ylabel(\"Loss\")\n",
    "plt.xlabel(\"Model Raw Output\")"
   ]
  },
  {
   "cell_type": "markdown",
   "id": "268eb514",
   "metadata": {},
   "source": [
    "seems logical for our classification problem and easy to minimize."
   ]
  }
 ],
 "metadata": {
  "kernelspec": {
   "display_name": "Python 3 (ipykernel)",
   "language": "python",
   "name": "python3"
  },
  "language_info": {
   "codemirror_mode": {
    "name": "ipython",
    "version": 3
   },
   "file_extension": ".py",
   "mimetype": "text/x-python",
   "name": "python",
   "nbconvert_exporter": "python",
   "pygments_lexer": "ipython3",
   "version": "3.9.6"
  }
 },
 "nbformat": 4,
 "nbformat_minor": 5
}
