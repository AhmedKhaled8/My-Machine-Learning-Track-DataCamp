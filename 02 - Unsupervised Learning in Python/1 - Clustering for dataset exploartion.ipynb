{
 "cells": [
  {
   "cell_type": "markdown",
   "id": "8fbe0f08",
   "metadata": {},
   "source": [
    "# Clustering for dataset exploration\n",
    "---\n",
    "\n",
    "In this notebook, we will learn how to discover clusters in a dataset. We will also be clustering different species by clustering their measurements and types of wines based on chemical and visual properties."
   ]
  },
  {
   "cell_type": "code",
   "execution_count": 2,
   "id": "3a87e9a9",
   "metadata": {},
   "outputs": [],
   "source": [
    "import numpy as np\n",
    "import pandas as pd\n",
    "import matplotlib.pyplot as plt\n",
    "import seaborn as sns\n",
    "from sklearn import datasets\n",
    "%matplotlib inline"
   ]
  },
  {
   "cell_type": "markdown",
   "id": "c0c8ff74",
   "metadata": {},
   "source": [
    "## Unsupervised Learning\n",
    "\n",
    "Unsupervised learning is a technique to find patterns in data. For example, **clustering** (groupping) customers by their purchases. Compressing the data using purchase patterns (**dimension reduction**).\n",
    "\n",
    "While supervised learning finds patterns for a prediction task. For example, classify tumors as benign or cancerous, here, the pattern discovery is *supervised* so that patterns are useful for predicting the type of tumor. In contrast, the unsupervised learning is just pure pattern discovery unguided by a prediction task."
   ]
  },
  {
   "cell_type": "markdown",
   "id": "b929469d",
   "metadata": {},
   "source": [
    "## k-means Clustering\n",
    "\n",
    "The k-means algorithm finds clusters of samples. It is based on initializing centroids (means) with random means, then, updating these means iteratively with the mean of the samples that are assigned to that centroids because it's closer to those samples than the other centroids. The algorithmrepeats the clusters updating We need to specify the number of centroids.\n",
    "\n",
    "We can use that algorithm from the `KMeans` class in `sklearn.cluster`. We will use the iris dataset in the `sklearn.datasets` module."
   ]
  },
  {
   "cell_type": "code",
   "execution_count": 32,
   "id": "df9f886d",
   "metadata": {},
   "outputs": [],
   "source": [
    "iris = datasets.load_iris()"
   ]
  },
  {
   "cell_type": "code",
   "execution_count": 33,
   "id": "12a3d7f5",
   "metadata": {},
   "outputs": [
    {
     "data": {
      "text/plain": [
       "(150, 4)"
      ]
     },
     "execution_count": 33,
     "metadata": {},
     "output_type": "execute_result"
    }
   ],
   "source": [
    "iris.data.shape"
   ]
  },
  {
   "cell_type": "markdown",
   "id": "d33951af",
   "metadata": {},
   "source": [
    "The iris dataset is 4d data. Dimension of the data is the number of features."
   ]
  },
  {
   "cell_type": "code",
   "execution_count": 34,
   "id": "691e01f1",
   "metadata": {},
   "outputs": [
    {
     "data": {
      "text/plain": [
       "KMeans(n_clusters=3)"
      ]
     },
     "execution_count": 34,
     "metadata": {},
     "output_type": "execute_result"
    }
   ],
   "source": [
    "from sklearn.cluster import KMeans\n",
    "\n",
    "kmeans_iris = KMeans(n_clusters=3) # we choose 3 because we know the target has 3 classes.\n",
    "kmeans_iris.fit(iris.data)"
   ]
  },
  {
   "cell_type": "markdown",
   "id": "4df5c817",
   "metadata": {},
   "source": [
    "After fitting the data to the kmeans model. We can apply the `predict` method on the same data. This will return the cluster assigned to each sample in the data."
   ]
  },
  {
   "cell_type": "code",
   "execution_count": 35,
   "id": "06cc2856",
   "metadata": {},
   "outputs": [
    {
     "data": {
      "text/plain": [
       "array([1, 1, 1, 1, 1, 1, 1, 1, 1, 1, 1, 1, 1, 1, 1, 1, 1, 1, 1, 1, 1, 1,\n",
       "       1, 1, 1, 1, 1, 1, 1, 1, 1, 1, 1, 1, 1, 1, 1, 1, 1, 1, 1, 1, 1, 1,\n",
       "       1, 1, 1, 1, 1, 1, 0, 0, 2, 0, 0, 0, 0, 0, 0, 0, 0, 0, 0, 0, 0, 0,\n",
       "       0, 0, 0, 0, 0, 0, 0, 0, 0, 0, 0, 2, 0, 0, 0, 0, 0, 0, 0, 0, 0, 0,\n",
       "       0, 0, 0, 0, 0, 0, 0, 0, 0, 0, 0, 0, 2, 0, 2, 2, 2, 2, 0, 2, 2, 2,\n",
       "       2, 2, 2, 0, 0, 2, 2, 2, 2, 0, 2, 0, 2, 0, 2, 2, 0, 0, 2, 2, 2, 2,\n",
       "       2, 0, 2, 2, 2, 2, 0, 2, 2, 2, 0, 2, 2, 2, 0, 2, 2, 0])"
      ]
     },
     "execution_count": 35,
     "metadata": {},
     "output_type": "execute_result"
    }
   ],
   "source": [
    "labels = kmeans_iris.predict(iris.data)\n",
    "labels"
   ]
  },
  {
   "cell_type": "markdown",
   "id": "e75aa380",
   "metadata": {},
   "source": [
    "We can also look at what are the final centroids of clusters."
   ]
  },
  {
   "cell_type": "code",
   "execution_count": 36,
   "id": "430f3d51",
   "metadata": {},
   "outputs": [
    {
     "data": {
      "text/plain": [
       "array([[5.9016129 , 2.7483871 , 4.39354839, 1.43387097],\n",
       "       [5.006     , 3.428     , 1.462     , 0.246     ],\n",
       "       [6.85      , 3.07368421, 5.74210526, 2.07105263]])"
      ]
     },
     "execution_count": 36,
     "metadata": {},
     "output_type": "execute_result"
    }
   ],
   "source": [
    "kmeans_iris.cluster_centers_"
   ]
  },
  {
   "cell_type": "markdown",
   "id": "f464b4b4",
   "metadata": {},
   "source": [
    "We can look at some scatter plots to see what are the groups (clusters) of the data given their labels. For example, scatter plot between sepal length and petal lenght."
   ]
  },
  {
   "cell_type": "code",
   "execution_count": 37,
   "id": "33b8bbda",
   "metadata": {},
   "outputs": [
    {
     "data": {
      "text/plain": [
       "['sepal length (cm)',\n",
       " 'sepal width (cm)',\n",
       " 'petal length (cm)',\n",
       " 'petal width (cm)']"
      ]
     },
     "execution_count": 37,
     "metadata": {},
     "output_type": "execute_result"
    }
   ],
   "source": [
    "iris.feature_names"
   ]
  },
  {
   "cell_type": "code",
   "execution_count": 38,
   "id": "d4349184",
   "metadata": {},
   "outputs": [
    {
     "data": {
      "text/plain": [
       "Text(0, 0.5, 'Petal length (cm)')"
      ]
     },
     "execution_count": 38,
     "metadata": {},
     "output_type": "execute_result"
    },
    {
     "data": {
      "image/png": "[encoded data removed]",
      "text/plain": [
       "<Figure size 432x288 with 1 Axes>"
      ]
     },
     "metadata": {
      "needs_background": "light"
     },
     "output_type": "display_data"
    }
   ],
   "source": [
    "sns.scatterplot(\n",
    "    x = iris.data[:, 0],\n",
    "    y = iris.data[:, 2],\n",
    "    hue = labels,\n",
    "    palette = \"tab10\"\n",
    ")\n",
    "\n",
    "sns.scatterplot(\n",
    "    x = kmeans_iris.cluster_centers_[:, 0],\n",
    "    y = kmeans_iris.cluster_centers_[:, 2],\n",
    "    color = \"black\",\n",
    "    marker = \"D\",\n",
    "    s = 100,\n",
    ")\n",
    "\n",
    "plt.xlabel(\"Sepal length (cm)\")\n",
    "plt.ylabel(\"Petal length (cm)\")"
   ]
  },
  {
   "cell_type": "markdown",
   "id": "ce4f235c",
   "metadata": {},
   "source": [
    "## Evaluating a clustering\n",
    "\n",
    "We can use **cross tabulation** to evaluate the clustering. In a cross tabulation, we assign the clustered labels as the rows and the actual labels as the columns. Then at each row and column intersection, a number will be shown that indicates the number that has both clustered and actual label. We can cosntruct this table using `pandas.crosstab`"
   ]
  },
  {
   "cell_type": "code",
   "execution_count": 39,
   "id": "5f1cca5c",
   "metadata": {},
   "outputs": [
    {
     "data": {
      "text/html": [
       "<div>\n",
       "<style scoped>\n",
       "    .dataframe tbody tr th:only-of-type {\n",
       "        vertical-align: middle;\n",
       "    }\n",
       "\n",
       "    .dataframe tbody tr th {\n",
       "        vertical-align: top;\n",
       "    }\n",
       "\n",
       "    .dataframe thead th {\n",
       "        text-align: right;\n",
       "    }\n",
       "</style>\n",
       "<table border=\"1\" class=\"dataframe\">\n",
       "  <thead>\n",
       "    <tr style=\"text-align: right;\">\n",
       "      <th></th>\n",
       "      <th>labels</th>\n",
       "      <th>species</th>\n",
       "    </tr>\n",
       "  </thead>\n",
       "  <tbody>\n",
       "    <tr>\n",
       "      <th>0</th>\n",
       "      <td>1</td>\n",
       "      <td>setosa</td>\n",
       "    </tr>\n",
       "    <tr>\n",
       "      <th>1</th>\n",
       "      <td>1</td>\n",
       "      <td>setosa</td>\n",
       "    </tr>\n",
       "    <tr>\n",
       "      <th>2</th>\n",
       "      <td>1</td>\n",
       "      <td>setosa</td>\n",
       "    </tr>\n",
       "    <tr>\n",
       "      <th>3</th>\n",
       "      <td>1</td>\n",
       "      <td>setosa</td>\n",
       "    </tr>\n",
       "    <tr>\n",
       "      <th>4</th>\n",
       "      <td>1</td>\n",
       "      <td>setosa</td>\n",
       "    </tr>\n",
       "  </tbody>\n",
       "</table>\n",
       "</div>"
      ],
      "text/plain": [
       "   labels species\n",
       "0       1  setosa\n",
       "1       1  setosa\n",
       "2       1  setosa\n",
       "3       1  setosa\n",
       "4       1  setosa"
      ]
     },
     "execution_count": 39,
     "metadata": {},
     "output_type": "execute_result"
    }
   ],
   "source": [
    "clustering_df = pd.DataFrame({\"labels\": labels, \"species\": [iris.target_names[target] for target in iris.target]})\n",
    "clustering_df.head()"
   ]
  },
  {
   "cell_type": "code",
   "execution_count": 40,
   "id": "808eb468",
   "metadata": {},
   "outputs": [
    {
     "data": {
      "text/html": [
       "<div>\n",
       "<style scoped>\n",
       "    .dataframe tbody tr th:only-of-type {\n",
       "        vertical-align: middle;\n",
       "    }\n",
       "\n",
       "    .dataframe tbody tr th {\n",
       "        vertical-align: top;\n",
       "    }\n",
       "\n",
       "    .dataframe thead th {\n",
       "        text-align: right;\n",
       "    }\n",
       "</style>\n",
       "<table border=\"1\" class=\"dataframe\">\n",
       "  <thead>\n",
       "    <tr style=\"text-align: right;\">\n",
       "      <th>species</th>\n",
       "      <th>setosa</th>\n",
       "      <th>versicolor</th>\n",
       "      <th>virginica</th>\n",
       "    </tr>\n",
       "    <tr>\n",
       "      <th>labels</th>\n",
       "      <th></th>\n",
       "      <th></th>\n",
       "      <th></th>\n",
       "    </tr>\n",
       "  </thead>\n",
       "  <tbody>\n",
       "    <tr>\n",
       "      <th>0</th>\n",
       "      <td>0</td>\n",
       "      <td>48</td>\n",
       "      <td>14</td>\n",
       "    </tr>\n",
       "    <tr>\n",
       "      <th>1</th>\n",
       "      <td>50</td>\n",
       "      <td>0</td>\n",
       "      <td>0</td>\n",
       "    </tr>\n",
       "    <tr>\n",
       "      <th>2</th>\n",
       "      <td>0</td>\n",
       "      <td>2</td>\n",
       "      <td>36</td>\n",
       "    </tr>\n",
       "  </tbody>\n",
       "</table>\n",
       "</div>"
      ],
      "text/plain": [
       "species  setosa  versicolor  virginica\n",
       "labels                                \n",
       "0             0          48         14\n",
       "1            50           0          0\n",
       "2             0           2         36"
      ]
     },
     "execution_count": 40,
     "metadata": {},
     "output_type": "execute_result"
    }
   ],
   "source": [
    "ct = pd.crosstab(clustering_df.labels, clustering_df.species)\n",
    "ct"
   ]
  },
  {
   "cell_type": "markdown",
   "id": "31c652d7",
   "metadata": {},
   "source": [
    "We can see that cluster 0 is for versicolor, cluster 1 for setosa, and cluster 2 for virginca."
   ]
  },
  {
   "cell_type": "markdown",
   "id": "8b4ccc78",
   "metadata": {},
   "source": [
    "However, We can tell the quality of the clustering if we know our targets. But what if there were no information about the target classes ?\n",
    "\n",
    "We can measure the clustering quality using only the samples and their cluster labels. A good clustering has tight cluster in which they are groupped into small area and not distributed in all the space.\n",
    "\n",
    "We can observe this using **inertia** which can be described as the distance from each sample to the centroid of its cluster. The lower, the better. When fitting the `KMeans` model, we can access its inertia using the `inertia_` data member."
   ]
  },
  {
   "cell_type": "code",
   "execution_count": 41,
   "id": "615fa381",
   "metadata": {},
   "outputs": [
    {
     "data": {
      "text/plain": [
       "78.851441426146"
      ]
     },
     "execution_count": 41,
     "metadata": {},
     "output_type": "execute_result"
    }
   ],
   "source": [
    "kmeans_iris.inertia_"
   ]
  },
  {
   "cell_type": "markdown",
   "id": "efb98e2b",
   "metadata": {},
   "source": [
    "Now, we can tune the number of clusters and use inertia as our metric."
   ]
  },
  {
   "cell_type": "code",
   "execution_count": 49,
   "id": "55220740",
   "metadata": {
    "scrolled": true
   },
   "outputs": [
    {
     "data": {
      "image/png": "[encoded data removed]",
      "text/plain": [
       "<Figure size 432x288 with 1 Axes>"
      ]
     },
     "metadata": {
      "needs_background": "light"
     },
     "output_type": "display_data"
    }
   ],
   "source": [
    "kmeans_tuned = KMeans()\n",
    "inertias = []\n",
    "\n",
    "for k in range(1, 10):\n",
    "    kmeans_tuned.n_clusters = k\n",
    "    kmeans_tuned.fit(iris.data)\n",
    "    inertias.append(kmeans_tuned.inertia_)\n",
    "\n",
    "sns.lineplot(x = range(1, 10), y = inertias, marker=\"o\")\n",
    "plt.xlabel(\"k\")\n",
    "plt.ylabel(\"inertia\");"
   ]
  },
  {
   "cell_type": "markdown",
   "id": "ac20c341",
   "metadata": {},
   "source": [
    ">How to choose the number of clusters from the above plot ?\n",
    "\n",
    "A good clustering has tight clusters with low inertia but not too many clusters. A rule of thumb is to choose an **elbow**. Elbow is a point where the inertia begin to decrease more slowly. From the graph, 3 is a good selection for k."
   ]
  },
  {
   "cell_type": "markdown",
   "id": "c2948f9f",
   "metadata": {},
   "source": [
    "## Transforming features for better clustering"
   ]
  },
  {
   "cell_type": "code",
   "execution_count": 50,
   "id": "fbf6b2d0",
   "metadata": {},
   "outputs": [
    {
     "data": {
      "text/html": [
       "<div>\n",
       "<style scoped>\n",
       "    .dataframe tbody tr th:only-of-type {\n",
       "        vertical-align: middle;\n",
       "    }\n",
       "\n",
       "    .dataframe tbody tr th {\n",
       "        vertical-align: top;\n",
       "    }\n",
       "\n",
       "    .dataframe thead th {\n",
       "        text-align: right;\n",
       "    }\n",
       "</style>\n",
       "<table border=\"1\" class=\"dataframe\">\n",
       "  <thead>\n",
       "    <tr style=\"text-align: right;\">\n",
       "      <th></th>\n",
       "      <th>class_label</th>\n",
       "      <th>alcohol</th>\n",
       "      <th>malic_acid</th>\n",
       "      <th>ash</th>\n",
       "      <th>alcalinity_of_ash</th>\n",
       "      <th>magnesium</th>\n",
       "      <th>total_phenols</th>\n",
       "      <th>flavanoids</th>\n",
       "      <th>nonflavanoid_phenols</th>\n",
       "      <th>proanthocyanins</th>\n",
       "      <th>color_intensity</th>\n",
       "      <th>hue</th>\n",
       "      <th>od280</th>\n",
       "      <th>proline</th>\n",
       "    </tr>\n",
       "  </thead>\n",
       "  <tbody>\n",
       "    <tr>\n",
       "      <th>count</th>\n",
       "      <td>178.000000</td>\n",
       "      <td>178.000000</td>\n",
       "      <td>178.000000</td>\n",
       "      <td>178.000000</td>\n",
       "      <td>178.000000</td>\n",
       "      <td>178.000000</td>\n",
       "      <td>178.000000</td>\n",
       "      <td>178.000000</td>\n",
       "      <td>178.000000</td>\n",
       "      <td>178.000000</td>\n",
       "      <td>178.000000</td>\n",
       "      <td>178.000000</td>\n",
       "      <td>178.000000</td>\n",
       "      <td>178.000000</td>\n",
       "    </tr>\n",
       "    <tr>\n",
       "      <th>mean</th>\n",
       "      <td>1.938202</td>\n",
       "      <td>13.000618</td>\n",
       "      <td>2.336348</td>\n",
       "      <td>2.366517</td>\n",
       "      <td>19.494944</td>\n",
       "      <td>99.741573</td>\n",
       "      <td>2.295112</td>\n",
       "      <td>2.029270</td>\n",
       "      <td>0.361854</td>\n",
       "      <td>1.590899</td>\n",
       "      <td>5.058090</td>\n",
       "      <td>0.957449</td>\n",
       "      <td>2.611685</td>\n",
       "      <td>746.893258</td>\n",
       "    </tr>\n",
       "    <tr>\n",
       "      <th>std</th>\n",
       "      <td>0.775035</td>\n",
       "      <td>0.811827</td>\n",
       "      <td>1.117146</td>\n",
       "      <td>0.274344</td>\n",
       "      <td>3.339564</td>\n",
       "      <td>14.282484</td>\n",
       "      <td>0.625851</td>\n",
       "      <td>0.998859</td>\n",
       "      <td>0.124453</td>\n",
       "      <td>0.572359</td>\n",
       "      <td>2.318286</td>\n",
       "      <td>0.228572</td>\n",
       "      <td>0.709990</td>\n",
       "      <td>314.907474</td>\n",
       "    </tr>\n",
       "    <tr>\n",
       "      <th>min</th>\n",
       "      <td>1.000000</td>\n",
       "      <td>11.030000</td>\n",
       "      <td>0.740000</td>\n",
       "      <td>1.360000</td>\n",
       "      <td>10.600000</td>\n",
       "      <td>70.000000</td>\n",
       "      <td>0.980000</td>\n",
       "      <td>0.340000</td>\n",
       "      <td>0.130000</td>\n",
       "      <td>0.410000</td>\n",
       "      <td>1.280000</td>\n",
       "      <td>0.480000</td>\n",
       "      <td>1.270000</td>\n",
       "      <td>278.000000</td>\n",
       "    </tr>\n",
       "    <tr>\n",
       "      <th>25%</th>\n",
       "      <td>1.000000</td>\n",
       "      <td>12.362500</td>\n",
       "      <td>1.602500</td>\n",
       "      <td>2.210000</td>\n",
       "      <td>17.200000</td>\n",
       "      <td>88.000000</td>\n",
       "      <td>1.742500</td>\n",
       "      <td>1.205000</td>\n",
       "      <td>0.270000</td>\n",
       "      <td>1.250000</td>\n",
       "      <td>3.220000</td>\n",
       "      <td>0.782500</td>\n",
       "      <td>1.937500</td>\n",
       "      <td>500.500000</td>\n",
       "    </tr>\n",
       "    <tr>\n",
       "      <th>50%</th>\n",
       "      <td>2.000000</td>\n",
       "      <td>13.050000</td>\n",
       "      <td>1.865000</td>\n",
       "      <td>2.360000</td>\n",
       "      <td>19.500000</td>\n",
       "      <td>98.000000</td>\n",
       "      <td>2.355000</td>\n",
       "      <td>2.135000</td>\n",
       "      <td>0.340000</td>\n",
       "      <td>1.555000</td>\n",
       "      <td>4.690000</td>\n",
       "      <td>0.965000</td>\n",
       "      <td>2.780000</td>\n",
       "      <td>673.500000</td>\n",
       "    </tr>\n",
       "    <tr>\n",
       "      <th>75%</th>\n",
       "      <td>3.000000</td>\n",
       "      <td>13.677500</td>\n",
       "      <td>3.082500</td>\n",
       "      <td>2.557500</td>\n",
       "      <td>21.500000</td>\n",
       "      <td>107.000000</td>\n",
       "      <td>2.800000</td>\n",
       "      <td>2.875000</td>\n",
       "      <td>0.437500</td>\n",
       "      <td>1.950000</td>\n",
       "      <td>6.200000</td>\n",
       "      <td>1.120000</td>\n",
       "      <td>3.170000</td>\n",
       "      <td>985.000000</td>\n",
       "    </tr>\n",
       "    <tr>\n",
       "      <th>max</th>\n",
       "      <td>3.000000</td>\n",
       "      <td>14.830000</td>\n",
       "      <td>5.800000</td>\n",
       "      <td>3.230000</td>\n",
       "      <td>30.000000</td>\n",
       "      <td>162.000000</td>\n",
       "      <td>3.880000</td>\n",
       "      <td>5.080000</td>\n",
       "      <td>0.660000</td>\n",
       "      <td>3.580000</td>\n",
       "      <td>13.000000</td>\n",
       "      <td>1.710000</td>\n",
       "      <td>4.000000</td>\n",
       "      <td>1680.000000</td>\n",
       "    </tr>\n",
       "  </tbody>\n",
       "</table>\n",
       "</div>"
      ],
      "text/plain": [
       "       class_label     alcohol  malic_acid         ash  alcalinity_of_ash  \\\n",
       "count   178.000000  178.000000  178.000000  178.000000         178.000000   \n",
       "mean      1.938202   13.000618    2.336348    2.366517          19.494944   \n",
       "std       0.775035    0.811827    1.117146    0.274344           3.339564   \n",
       "min       1.000000   11.030000    0.740000    1.360000          10.600000   \n",
       "25%       1.000000   12.362500    1.602500    2.210000          17.200000   \n",
       "50%       2.000000   13.050000    1.865000    2.360000          19.500000   \n",
       "75%       3.000000   13.677500    3.082500    2.557500          21.500000   \n",
       "max       3.000000   14.830000    5.800000    3.230000          30.000000   \n",
       "\n",
       "        magnesium  total_phenols  flavanoids  nonflavanoid_phenols  \\\n",
       "count  178.000000     178.000000  178.000000            178.000000   \n",
       "mean    99.741573       2.295112    2.029270              0.361854   \n",
       "std     14.282484       0.625851    0.998859              0.124453   \n",
       "min     70.000000       0.980000    0.340000              0.130000   \n",
       "25%     88.000000       1.742500    1.205000              0.270000   \n",
       "50%     98.000000       2.355000    2.135000              0.340000   \n",
       "75%    107.000000       2.800000    2.875000              0.437500   \n",
       "max    162.000000       3.880000    5.080000              0.660000   \n",
       "\n",
       "       proanthocyanins  color_intensity         hue       od280      proline  \n",
       "count       178.000000       178.000000  178.000000  178.000000   178.000000  \n",
       "mean          1.590899         5.058090    0.957449    2.611685   746.893258  \n",
       "std           0.572359         2.318286    0.228572    0.709990   314.907474  \n",
       "min           0.410000         1.280000    0.480000    1.270000   278.000000  \n",
       "25%           1.250000         3.220000    0.782500    1.937500   500.500000  \n",
       "50%           1.555000         4.690000    0.965000    2.780000   673.500000  \n",
       "75%           1.950000         6.200000    1.120000    3.170000   985.000000  \n",
       "max           3.580000        13.000000    1.710000    4.000000  1680.000000  "
      ]
     },
     "execution_count": 50,
     "metadata": {},
     "output_type": "execute_result"
    }
   ],
   "source": [
    "wines_df = pd.read_csv(\"assets/data/wines.csv\")\n",
    "wines_df.describe()"
   ]
  },
  {
   "cell_type": "code",
   "execution_count": 52,
   "id": "c0e8efb9",
   "metadata": {},
   "outputs": [
    {
     "data": {
      "text/html": [
       "<div>\n",
       "<style scoped>\n",
       "    .dataframe tbody tr th:only-of-type {\n",
       "        vertical-align: middle;\n",
       "    }\n",
       "\n",
       "    .dataframe tbody tr th {\n",
       "        vertical-align: top;\n",
       "    }\n",
       "\n",
       "    .dataframe thead th {\n",
       "        text-align: right;\n",
       "    }\n",
       "</style>\n",
       "<table border=\"1\" class=\"dataframe\">\n",
       "  <thead>\n",
       "    <tr style=\"text-align: right;\">\n",
       "      <th></th>\n",
       "      <th>class_label</th>\n",
       "      <th>class_name</th>\n",
       "      <th>alcohol</th>\n",
       "      <th>malic_acid</th>\n",
       "      <th>ash</th>\n",
       "      <th>alcalinity_of_ash</th>\n",
       "      <th>magnesium</th>\n",
       "      <th>total_phenols</th>\n",
       "      <th>flavanoids</th>\n",
       "      <th>nonflavanoid_phenols</th>\n",
       "      <th>proanthocyanins</th>\n",
       "      <th>color_intensity</th>\n",
       "      <th>hue</th>\n",
       "      <th>od280</th>\n",
       "      <th>proline</th>\n",
       "    </tr>\n",
       "  </thead>\n",
       "  <tbody>\n",
       "    <tr>\n",
       "      <th>0</th>\n",
       "      <td>1</td>\n",
       "      <td>Barolo</td>\n",
       "      <td>14.23</td>\n",
       "      <td>1.71</td>\n",
       "      <td>2.43</td>\n",
       "      <td>15.6</td>\n",
       "      <td>127</td>\n",
       "      <td>2.80</td>\n",
       "      <td>3.06</td>\n",
       "      <td>0.28</td>\n",
       "      <td>2.29</td>\n",
       "      <td>5.64</td>\n",
       "      <td>1.04</td>\n",
       "      <td>3.92</td>\n",
       "      <td>1065</td>\n",
       "    </tr>\n",
       "    <tr>\n",
       "      <th>1</th>\n",
       "      <td>1</td>\n",
       "      <td>Barolo</td>\n",
       "      <td>13.20</td>\n",
       "      <td>1.78</td>\n",
       "      <td>2.14</td>\n",
       "      <td>11.2</td>\n",
       "      <td>100</td>\n",
       "      <td>2.65</td>\n",
       "      <td>2.76</td>\n",
       "      <td>0.26</td>\n",
       "      <td>1.28</td>\n",
       "      <td>4.38</td>\n",
       "      <td>1.05</td>\n",
       "      <td>3.40</td>\n",
       "      <td>1050</td>\n",
       "    </tr>\n",
       "    <tr>\n",
       "      <th>2</th>\n",
       "      <td>1</td>\n",
       "      <td>Barolo</td>\n",
       "      <td>13.16</td>\n",
       "      <td>2.36</td>\n",
       "      <td>2.67</td>\n",
       "      <td>18.6</td>\n",
       "      <td>101</td>\n",
       "      <td>2.80</td>\n",
       "      <td>3.24</td>\n",
       "      <td>0.30</td>\n",
       "      <td>2.81</td>\n",
       "      <td>5.68</td>\n",
       "      <td>1.03</td>\n",
       "      <td>3.17</td>\n",
       "      <td>1185</td>\n",
       "    </tr>\n",
       "    <tr>\n",
       "      <th>3</th>\n",
       "      <td>1</td>\n",
       "      <td>Barolo</td>\n",
       "      <td>14.37</td>\n",
       "      <td>1.95</td>\n",
       "      <td>2.50</td>\n",
       "      <td>16.8</td>\n",
       "      <td>113</td>\n",
       "      <td>3.85</td>\n",
       "      <td>3.49</td>\n",
       "      <td>0.24</td>\n",
       "      <td>2.18</td>\n",
       "      <td>7.80</td>\n",
       "      <td>0.86</td>\n",
       "      <td>3.45</td>\n",
       "      <td>1480</td>\n",
       "    </tr>\n",
       "    <tr>\n",
       "      <th>4</th>\n",
       "      <td>1</td>\n",
       "      <td>Barolo</td>\n",
       "      <td>13.24</td>\n",
       "      <td>2.59</td>\n",
       "      <td>2.87</td>\n",
       "      <td>21.0</td>\n",
       "      <td>118</td>\n",
       "      <td>2.80</td>\n",
       "      <td>2.69</td>\n",
       "      <td>0.39</td>\n",
       "      <td>1.82</td>\n",
       "      <td>4.32</td>\n",
       "      <td>1.04</td>\n",
       "      <td>2.93</td>\n",
       "      <td>735</td>\n",
       "    </tr>\n",
       "  </tbody>\n",
       "</table>\n",
       "</div>"
      ],
      "text/plain": [
       "   class_label class_name  alcohol  malic_acid   ash  alcalinity_of_ash  \\\n",
       "0            1     Barolo    14.23        1.71  2.43               15.6   \n",
       "1            1     Barolo    13.20        1.78  2.14               11.2   \n",
       "2            1     Barolo    13.16        2.36  2.67               18.6   \n",
       "3            1     Barolo    14.37        1.95  2.50               16.8   \n",
       "4            1     Barolo    13.24        2.59  2.87               21.0   \n",
       "\n",
       "   magnesium  total_phenols  flavanoids  nonflavanoid_phenols  \\\n",
       "0        127           2.80        3.06                  0.28   \n",
       "1        100           2.65        2.76                  0.26   \n",
       "2        101           2.80        3.24                  0.30   \n",
       "3        113           3.85        3.49                  0.24   \n",
       "4        118           2.80        2.69                  0.39   \n",
       "\n",
       "   proanthocyanins  color_intensity   hue  od280  proline  \n",
       "0             2.29             5.64  1.04   3.92     1065  \n",
       "1             1.28             4.38  1.05   3.40     1050  \n",
       "2             2.81             5.68  1.03   3.17     1185  \n",
       "3             2.18             7.80  0.86   3.45     1480  \n",
       "4             1.82             4.32  1.04   2.93      735  "
      ]
     },
     "execution_count": 52,
     "metadata": {},
     "output_type": "execute_result"
    }
   ],
   "source": [
    "wines_df.head()"
   ]
  },
  {
   "cell_type": "code",
   "execution_count": 53,
   "id": "7b614256",
   "metadata": {},
   "outputs": [
    {
     "data": {
      "text/plain": [
       "array(['Barolo', 'Grignolino', 'Barbera'], dtype=object)"
      ]
     },
     "execution_count": 53,
     "metadata": {},
     "output_type": "execute_result"
    }
   ],
   "source": [
    "wines_df.class_name.unique()"
   ]
  },
  {
   "cell_type": "markdown",
   "id": "550a8dfe",
   "metadata": {},
   "source": [
    "We have a dataset about wine that has 3 varieties; Barolo, Grignolino and Barbera of 178 samples that include checmical composition like alcohol content and visual properties like color intensity. Let's try to fit a `KMeans` model to the data."
   ]
  },
  {
   "cell_type": "code",
   "execution_count": 54,
   "id": "660dd394",
   "metadata": {},
   "outputs": [],
   "source": [
    "X = wines_df.drop(columns=[\"class_label\", \"class_name\"]).values"
   ]
  },
  {
   "cell_type": "code",
   "execution_count": 55,
   "id": "08752fc4",
   "metadata": {},
   "outputs": [],
   "source": [
    "wines_kmeans = KMeans(n_clusters=3)\n",
    "labels = wines_kmeans.fit_predict(X) # fit_predict applies fit then applies predict and return the labels."
   ]
  },
  {
   "cell_type": "markdown",
   "id": "5ffc06e9",
   "metadata": {},
   "source": [
    "Now, we can create a cross table between the class_name column and the labels to evaluate the clustering."
   ]
  },
  {
   "cell_type": "code",
   "execution_count": 61,
   "id": "ce70ba09",
   "metadata": {},
   "outputs": [
    {
     "data": {
      "text/html": [
       "<div>\n",
       "<style scoped>\n",
       "    .dataframe tbody tr th:only-of-type {\n",
       "        vertical-align: middle;\n",
       "    }\n",
       "\n",
       "    .dataframe tbody tr th {\n",
       "        vertical-align: top;\n",
       "    }\n",
       "\n",
       "    .dataframe thead th {\n",
       "        text-align: right;\n",
       "    }\n",
       "</style>\n",
       "<table border=\"1\" class=\"dataframe\">\n",
       "  <thead>\n",
       "    <tr style=\"text-align: right;\">\n",
       "      <th></th>\n",
       "      <th>labels</th>\n",
       "      <th>class</th>\n",
       "    </tr>\n",
       "  </thead>\n",
       "  <tbody>\n",
       "    <tr>\n",
       "      <th>0</th>\n",
       "      <td>1</td>\n",
       "      <td>Barolo</td>\n",
       "    </tr>\n",
       "    <tr>\n",
       "      <th>1</th>\n",
       "      <td>1</td>\n",
       "      <td>Barolo</td>\n",
       "    </tr>\n",
       "    <tr>\n",
       "      <th>2</th>\n",
       "      <td>1</td>\n",
       "      <td>Barolo</td>\n",
       "    </tr>\n",
       "    <tr>\n",
       "      <th>3</th>\n",
       "      <td>1</td>\n",
       "      <td>Barolo</td>\n",
       "    </tr>\n",
       "    <tr>\n",
       "      <th>4</th>\n",
       "      <td>2</td>\n",
       "      <td>Barolo</td>\n",
       "    </tr>\n",
       "  </tbody>\n",
       "</table>\n",
       "</div>"
      ],
      "text/plain": [
       "   labels   class\n",
       "0       1  Barolo\n",
       "1       1  Barolo\n",
       "2       1  Barolo\n",
       "3       1  Barolo\n",
       "4       2  Barolo"
      ]
     },
     "execution_count": 61,
     "metadata": {},
     "output_type": "execute_result"
    }
   ],
   "source": [
    "wines_clustering_df = pd.DataFrame({\"labels\": labels, \"class\": wines_df.class_name})\n",
    "wines_clustering_df.head()"
   ]
  },
  {
   "cell_type": "code",
   "execution_count": 65,
   "id": "34d95deb",
   "metadata": {},
   "outputs": [
    {
     "data": {
      "text/html": [
       "<div>\n",
       "<style scoped>\n",
       "    .dataframe tbody tr th:only-of-type {\n",
       "        vertical-align: middle;\n",
       "    }\n",
       "\n",
       "    .dataframe tbody tr th {\n",
       "        vertical-align: top;\n",
       "    }\n",
       "\n",
       "    .dataframe thead th {\n",
       "        text-align: right;\n",
       "    }\n",
       "</style>\n",
       "<table border=\"1\" class=\"dataframe\">\n",
       "  <thead>\n",
       "    <tr style=\"text-align: right;\">\n",
       "      <th>class</th>\n",
       "      <th>Barbera</th>\n",
       "      <th>Barolo</th>\n",
       "      <th>Grignolino</th>\n",
       "    </tr>\n",
       "    <tr>\n",
       "      <th>labels</th>\n",
       "      <th></th>\n",
       "      <th></th>\n",
       "      <th></th>\n",
       "    </tr>\n",
       "  </thead>\n",
       "  <tbody>\n",
       "    <tr>\n",
       "      <th>0</th>\n",
       "      <td>19</td>\n",
       "      <td>0</td>\n",
       "      <td>50</td>\n",
       "    </tr>\n",
       "    <tr>\n",
       "      <th>1</th>\n",
       "      <td>0</td>\n",
       "      <td>46</td>\n",
       "      <td>1</td>\n",
       "    </tr>\n",
       "    <tr>\n",
       "      <th>2</th>\n",
       "      <td>29</td>\n",
       "      <td>13</td>\n",
       "      <td>20</td>\n",
       "    </tr>\n",
       "  </tbody>\n",
       "</table>\n",
       "</div>"
      ],
      "text/plain": [
       "class   Barbera  Barolo  Grignolino\n",
       "labels                             \n",
       "0            19       0          50\n",
       "1             0      46           1\n",
       "2            29      13          20"
      ]
     },
     "execution_count": 65,
     "metadata": {},
     "output_type": "execute_result"
    }
   ],
   "source": [
    "pd.crosstab(wines_clustering_df[\"labels\"], wines_clustering_df[\"class\"])"
   ]
  },
  {
   "cell_type": "markdown",
   "id": "6052655a",
   "metadata": {},
   "source": [
    "mmmm, not the tight clusters we wished we got. But, there is a reason for these bad results. The features have very different ranges and variances."
   ]
  },
  {
   "cell_type": "code",
   "execution_count": 68,
   "id": "f05ace54",
   "metadata": {},
   "outputs": [
    {
     "data": {
      "text/plain": [
       "class_label                 0.600679\n",
       "alcohol                     0.659062\n",
       "malic_acid                  1.248015\n",
       "ash                         0.075265\n",
       "alcalinity_of_ash          11.152686\n",
       "magnesium                 203.989335\n",
       "total_phenols               0.391690\n",
       "flavanoids                  0.997719\n",
       "nonflavanoid_phenols        0.015489\n",
       "proanthocyanins             0.327595\n",
       "color_intensity             5.374449\n",
       "hue                         0.052245\n",
       "od280                       0.504086\n",
       "proline                 99166.717355\n",
       "dtype: float64"
      ]
     },
     "execution_count": 68,
     "metadata": {},
     "output_type": "execute_result"
    }
   ],
   "source": [
    "wines_df.var(numeric_only=True)"
   ]
  },
  {
   "cell_type": "markdown",
   "id": "daf2cbd0",
   "metadata": {},
   "source": [
    "In kmeans, and any estimator uses distances in their calculations, the feature variance represent its influence. And to avoid variance issues, we should transform and scale the features to be in similar ranges. We should use `StandardScaler` for the features."
   ]
  },
  {
   "cell_type": "code",
   "execution_count": 73,
   "id": "c257afa0",
   "metadata": {},
   "outputs": [
    {
     "data": {
      "text/plain": [
       "(-1680.0, 1680.0)"
      ]
     },
     "execution_count": 73,
     "metadata": {},
     "output_type": "execute_result"
    },
    {
     "data": {
      "image/png": "[encoded data removed]",
      "text/plain": [
       "<Figure size 432x288 with 1 Axes>"
      ]
     },
     "metadata": {
      "needs_background": "light"
     },
     "output_type": "display_data"
    }
   ],
   "source": [
    "sns.scatterplot(\n",
    "    data = wines_df,\n",
    "    x = \"od280\",\n",
    "    y = \"proline\",\n",
    "    hue = \"class_name\",\n",
    "    alpha = 0.1\n",
    ")\n",
    "\n",
    "plt.xlim(-wines_df.proline.max(), wines_df.proline.max())"
   ]
  },
  {
   "cell_type": "markdown",
   "id": "97d65827",
   "metadata": {},
   "source": [
    "When scaling the data,"
   ]
  },
  {
   "cell_type": "code",
   "execution_count": 74,
   "id": "fcd8209a",
   "metadata": {},
   "outputs": [],
   "source": [
    "from sklearn.preprocessing import StandardScaler\n",
    "\n",
    "X_sclaed = StandardScaler().fit_transform(X)"
   ]
  },
  {
   "cell_type": "code",
   "execution_count": 77,
   "id": "4f3a09bb",
   "metadata": {},
   "outputs": [
    {
     "data": {
      "text/plain": [
       "<AxesSubplot:>"
      ]
     },
     "execution_count": 77,
     "metadata": {},
     "output_type": "execute_result"
    },
    {
     "data": {
      "image/png": "[encoded data removed]",
      "text/plain": [
       "<Figure size 432x288 with 1 Axes>"
      ]
     },
     "metadata": {
      "needs_background": "light"
     },
     "output_type": "display_data"
    }
   ],
   "source": [
    "sns.scatterplot(\n",
    "    x = X_sclaed[:, -1],\n",
    "    y = X_sclaed[:, -2],\n",
    "    hue = wines_df.class_name,\n",
    ")"
   ]
  },
  {
   "cell_type": "markdown",
   "id": "25981794",
   "metadata": {},
   "source": [
    "Much closer data variances. We can build a pipeline stacking the scaling and clustering steps into one model."
   ]
  },
  {
   "cell_type": "code",
   "execution_count": 78,
   "id": "abe74e84",
   "metadata": {},
   "outputs": [],
   "source": [
    "from sklearn.pipeline import Pipeline\n",
    "\n",
    "steps = [\n",
    "    (\"scaler\", StandardScaler()),\n",
    "    (\"kmeans\", KMeans(n_clusters=3))\n",
    "]\n",
    "\n",
    "pipeline = Pipeline(steps)\n",
    "\n",
    "pipeline.fit(X)\n",
    "\n",
    "labels = pipeline.predict(X)"
   ]
  },
  {
   "cell_type": "code",
   "execution_count": 79,
   "id": "3b46664b",
   "metadata": {},
   "outputs": [
    {
     "data": {
      "text/html": [
       "<div>\n",
       "<style scoped>\n",
       "    .dataframe tbody tr th:only-of-type {\n",
       "        vertical-align: middle;\n",
       "    }\n",
       "\n",
       "    .dataframe tbody tr th {\n",
       "        vertical-align: top;\n",
       "    }\n",
       "\n",
       "    .dataframe thead th {\n",
       "        text-align: right;\n",
       "    }\n",
       "</style>\n",
       "<table border=\"1\" class=\"dataframe\">\n",
       "  <thead>\n",
       "    <tr style=\"text-align: right;\">\n",
       "      <th></th>\n",
       "      <th>labels</th>\n",
       "      <th>class</th>\n",
       "    </tr>\n",
       "  </thead>\n",
       "  <tbody>\n",
       "    <tr>\n",
       "      <th>0</th>\n",
       "      <td>1</td>\n",
       "      <td>Barolo</td>\n",
       "    </tr>\n",
       "    <tr>\n",
       "      <th>1</th>\n",
       "      <td>1</td>\n",
       "      <td>Barolo</td>\n",
       "    </tr>\n",
       "    <tr>\n",
       "      <th>2</th>\n",
       "      <td>1</td>\n",
       "      <td>Barolo</td>\n",
       "    </tr>\n",
       "    <tr>\n",
       "      <th>3</th>\n",
       "      <td>1</td>\n",
       "      <td>Barolo</td>\n",
       "    </tr>\n",
       "    <tr>\n",
       "      <th>4</th>\n",
       "      <td>1</td>\n",
       "      <td>Barolo</td>\n",
       "    </tr>\n",
       "  </tbody>\n",
       "</table>\n",
       "</div>"
      ],
      "text/plain": [
       "   labels   class\n",
       "0       1  Barolo\n",
       "1       1  Barolo\n",
       "2       1  Barolo\n",
       "3       1  Barolo\n",
       "4       1  Barolo"
      ]
     },
     "execution_count": 79,
     "metadata": {},
     "output_type": "execute_result"
    }
   ],
   "source": [
    "wines_clustering_df = pd.DataFrame({\"labels\": labels, \"class\": wines_df.class_name})\n",
    "wines_clustering_df.head()"
   ]
  },
  {
   "cell_type": "code",
   "execution_count": 80,
   "id": "9c979150",
   "metadata": {},
   "outputs": [
    {
     "data": {
      "text/html": [
       "<div>\n",
       "<style scoped>\n",
       "    .dataframe tbody tr th:only-of-type {\n",
       "        vertical-align: middle;\n",
       "    }\n",
       "\n",
       "    .dataframe tbody tr th {\n",
       "        vertical-align: top;\n",
       "    }\n",
       "\n",
       "    .dataframe thead th {\n",
       "        text-align: right;\n",
       "    }\n",
       "</style>\n",
       "<table border=\"1\" class=\"dataframe\">\n",
       "  <thead>\n",
       "    <tr style=\"text-align: right;\">\n",
       "      <th>class</th>\n",
       "      <th>Barbera</th>\n",
       "      <th>Barolo</th>\n",
       "      <th>Grignolino</th>\n",
       "    </tr>\n",
       "    <tr>\n",
       "      <th>labels</th>\n",
       "      <th></th>\n",
       "      <th></th>\n",
       "      <th></th>\n",
       "    </tr>\n",
       "  </thead>\n",
       "  <tbody>\n",
       "    <tr>\n",
       "      <th>0</th>\n",
       "      <td>0</td>\n",
       "      <td>0</td>\n",
       "      <td>65</td>\n",
       "    </tr>\n",
       "    <tr>\n",
       "      <th>1</th>\n",
       "      <td>0</td>\n",
       "      <td>59</td>\n",
       "      <td>3</td>\n",
       "    </tr>\n",
       "    <tr>\n",
       "      <th>2</th>\n",
       "      <td>48</td>\n",
       "      <td>0</td>\n",
       "      <td>3</td>\n",
       "    </tr>\n",
       "  </tbody>\n",
       "</table>\n",
       "</div>"
      ],
      "text/plain": [
       "class   Barbera  Barolo  Grignolino\n",
       "labels                             \n",
       "0             0       0          65\n",
       "1             0      59           3\n",
       "2            48       0           3"
      ]
     },
     "execution_count": 80,
     "metadata": {},
     "output_type": "execute_result"
    }
   ],
   "source": [
    "pd.crosstab(wines_clustering_df[\"labels\"], wines_clustering_df[\"class\"])"
   ]
  },
  {
   "cell_type": "markdown",
   "id": "98ffc2f2",
   "metadata": {},
   "source": [
    "much better results."
   ]
  }
 ],
 "metadata": {
  "kernelspec": {
   "display_name": "Python 3 (ipykernel)",
   "language": "python",
   "name": "python3"
  },
  "language_info": {
   "codemirror_mode": {
    "name": "ipython",
    "version": 3
   },
   "file_extension": ".py",
   "mimetype": "text/x-python",
   "name": "python",
   "nbconvert_exporter": "python",
   "pygments_lexer": "ipython3",
   "version": "3.9.6"
  }
 },
 "nbformat": 4,
 "nbformat_minor": 5
}
