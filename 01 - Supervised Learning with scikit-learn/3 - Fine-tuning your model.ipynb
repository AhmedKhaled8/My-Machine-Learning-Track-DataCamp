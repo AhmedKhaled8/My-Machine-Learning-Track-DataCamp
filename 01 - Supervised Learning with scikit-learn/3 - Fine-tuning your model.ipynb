{
 "cells": [
  {
   "cell_type": "markdown",
   "id": "d7e81f21",
   "metadata": {},
   "source": [
    "# Fine-Tuning your model\n",
    "\n",
    "---\n",
    "\n",
    "After training the model, the next task is to evaulate its performance. In this notebook, we will discuss about different metrics in `sklearn` used to evaulate the model more efficiently and how to optimize the classification and regression models using hyperparameter tuning."
   ]
  },
  {
   "cell_type": "code",
   "execution_count": 16,
   "id": "09955616",
   "metadata": {},
   "outputs": [],
   "source": [
    "import numpy as np\n",
    "import pandas as pd\n",
    "import matplotlib.pyplot as plt\n",
    "import seaborn as sns"
   ]
  },
  {
   "cell_type": "markdown",
   "id": "ec0d7d2e",
   "metadata": {},
   "source": [
    "## Classification metrics\n",
    "\n",
    "We learnt about the accuracy, which is the propotion of correct predictions to the total number of predictions. However, it's not always a useful metric specially for the case of *class-imbalance*.\n",
    "\n",
    "For example, for the task of email spam classification, we usually have around 99% real email and only 1% spam. If we build a classifier that predicts all emails are real, it's accuracy will be 99% which is a high accuracy but it never predicts spam emails and thus fails to do its required purpose. This is because of the large ratio between the 2 classes which is known as *class-imbalace*.\n",
    "\n",
    "For these cases, we need more nuanced (complex) metircs.\n",
    "\n",
    "\n",
    "For binary classification, we can build a 2x2 table (matrix) recording the true and predicted values for each class like this,\n",
    "\n",
    "![](assets/images/cm.png)\n",
    "\n",
    "For the spam(positive)-real(negative) classification task:\n",
    "\n",
    "* True Positive (TP) is the number of spam emails that were **correctly** classified as spam by our model\n",
    "* False Negative (FN) is the number of spam emails that were **incorrectly** classified as real by our model\n",
    "* Flase Positive (FP) is the number of real emails that were **incorrectly** classified as spam by our model\n",
    "* True Negative (TN) is the number of real emails that were **correctly** classified as real by our model\n",
    "\n",
    "\n",
    "This is called confusion matrix. From the confusion matrix, we can calculate the following:\n",
    "\n",
    "* Accuracy : the ratio between the correct classifications (TP+TN) over the total number of classifications (TP+TN+FP+FN)\n",
    "\n",
    "$$\n",
    "\\text{accuracy} = \\frac{TP+TN}{TP+TN+FP+FN}\n",
    "$$\n",
    "\n",
    "* **P**recision: the ratio of the true positives (T**P**) classifications over the total *predicted* positives (T**P**+F**P**) (given we predicted positive, what is the probability we predict a true positive). It's also called the positive-predicted value (PPV).\n",
    "\n",
    "$$\n",
    "\\text{precision} = \\frac{TP}{TP+FP}\n",
    "$$\n",
    "\n",
    "* Recall: the ratio of the true positives (TP) over the total *actual* positives (TP+FN). It's also called sensitivity, hit-rate, and true-positive-rate (TPR).\n",
    "\n",
    "$$\n",
    "\\text{recall} = \\frac{TP}{TP+FN}\n",
    "$$\n",
    "\n",
    "* F1-Score: it is the harmonic mean of precision and recall. It combines precision and recall into a single number using the following formula\n",
    "\n",
    "$$\n",
    "F1 = 2 * \\frac{\\text{precision}.\\text{recall}}{\\text{precision}+\\text{recall}}\n",
    "$$\n",
    "\n",
    "\n",
    "Using these metrics for the spam classification,\n",
    "\n",
    "* High precision: not many real emails predicted as spam\n",
    "* High recall: many spam emails classified as spam\n",
    "* High F1 score : high precision and high recall\n",
    "\n",
    "***NOTE:*** Precision, Recall, and F1 Score usually calculated for the positive class but we can calculate it for the other class by defining that class as the positive one and repeat the calculations.\n",
    "\n",
    "We can calculate the above metrics in addition to the confusion matrix from `sklearn.metrics`"
   ]
  },
  {
   "cell_type": "code",
   "execution_count": 17,
   "id": "45ee8ddd",
   "metadata": {},
   "outputs": [],
   "source": [
    "from sklearn.metrics import classification_report\n",
    "from sklearn.metrics import confusion_matrix"
   ]
  },
  {
   "cell_type": "markdown",
   "id": "cfa342a8",
   "metadata": {},
   "source": [
    "We will use the diabetes dataset provided in `diabetes.csv`. In this dataset, our target is to predict whether a patient will suffer from diabetes (positive class 1) or not (negative class 0) based on features like BMI, age, and number of pregnancies."
   ]
  },
  {
   "cell_type": "code",
   "execution_count": 18,
   "id": "efc7473b",
   "metadata": {},
   "outputs": [
    {
     "name": "stdout",
     "output_type": "stream",
     "text": [
      "<class 'pandas.core.frame.DataFrame'>\n",
      "RangeIndex: 768 entries, 0 to 767\n",
      "Data columns (total 9 columns):\n",
      " #   Column       Non-Null Count  Dtype  \n",
      "---  ------       --------------  -----  \n",
      " 0   pregnancies  768 non-null    int64  \n",
      " 1   glucose      768 non-null    int64  \n",
      " 2   diastolic    768 non-null    int64  \n",
      " 3   triceps      768 non-null    int64  \n",
      " 4   insulin      768 non-null    int64  \n",
      " 5   bmi          768 non-null    float64\n",
      " 6   dpf          768 non-null    float64\n",
      " 7   age          768 non-null    int64  \n",
      " 8   diabetes     768 non-null    int64  \n",
      "dtypes: float64(2), int64(7)\n",
      "memory usage: 54.1 KB\n"
     ]
    }
   ],
   "source": [
    "diabetes_df = pd.read_csv(\"assets/data/diabetes.csv\")\n",
    "diabetes_df.info()"
   ]
  },
  {
   "cell_type": "code",
   "execution_count": 19,
   "id": "9a42cfed",
   "metadata": {},
   "outputs": [],
   "source": [
    "X = diabetes_df.drop(columns=['diabetes']).values\n",
    "y = diabetes_df.diabetes.values"
   ]
  },
  {
   "cell_type": "code",
   "execution_count": 20,
   "id": "b013f41c",
   "metadata": {},
   "outputs": [],
   "source": [
    "from sklearn.model_selection import train_test_split\n",
    "\n",
    "X_train, X_test, y_train, y_test = train_test_split(X, y, test_size=0.4, random_state=42)"
   ]
  },
  {
   "cell_type": "code",
   "execution_count": 21,
   "id": "ce2e683d",
   "metadata": {},
   "outputs": [],
   "source": [
    "from sklearn.neighbors import KNeighborsClassifier\n",
    "\n",
    "knn = KNeighborsClassifier(n_neighbors=6)"
   ]
  },
  {
   "cell_type": "code",
   "execution_count": 22,
   "id": "61c3e566",
   "metadata": {},
   "outputs": [
    {
     "data": {
      "text/plain": [
       "KNeighborsClassifier(n_neighbors=6)"
      ]
     },
     "execution_count": 22,
     "metadata": {},
     "output_type": "execute_result"
    }
   ],
   "source": [
    "knn.fit(X_train, y_train)"
   ]
  },
  {
   "cell_type": "code",
   "execution_count": 23,
   "id": "294484b2",
   "metadata": {},
   "outputs": [],
   "source": [
    "y_pred = knn.predict(X_test)"
   ]
  },
  {
   "cell_type": "markdown",
   "id": "545960a7",
   "metadata": {},
   "source": [
    "To build the confusion matrix,"
   ]
  },
  {
   "cell_type": "code",
   "execution_count": 24,
   "id": "c3bbe01d",
   "metadata": {},
   "outputs": [
    {
     "name": "stdout",
     "output_type": "stream",
     "text": [
      "[[176  30]\n",
      " [ 56  46]]\n"
     ]
    }
   ],
   "source": [
    "print(confusion_matrix(y_test, y_pred))"
   ]
  },
  {
   "cell_type": "markdown",
   "id": "11673dc6",
   "metadata": {},
   "source": [
    "***NOTE:*** The above confusion matrix **does not** follow the structure we talked about above. Instead, it follows this,\n",
    "\n",
    "[![](assets/images/cm_sklearn.png)](https://towardsdatascience.com/understanding-the-confusion-matrix-from-scikit-learn-c51d88929c79)"
   ]
  },
  {
   "cell_type": "markdown",
   "id": "29768173",
   "metadata": {},
   "source": [
    "To create a classification report that reports:\n",
    "\n",
    "* precision\n",
    "* recall\n",
    "* f1-score\n",
    "* support (the number of samples that has this class)"
   ]
  },
  {
   "cell_type": "code",
   "execution_count": 25,
   "id": "84bb81fb",
   "metadata": {},
   "outputs": [
    {
     "name": "stdout",
     "output_type": "stream",
     "text": [
      "              precision    recall  f1-score   support\n",
      "\n",
      "           0       0.76      0.85      0.80       206\n",
      "           1       0.61      0.45      0.52       102\n",
      "\n",
      "    accuracy                           0.72       308\n",
      "   macro avg       0.68      0.65      0.66       308\n",
      "weighted avg       0.71      0.72      0.71       308\n",
      "\n"
     ]
    }
   ],
   "source": [
    "print(classification_report(y_test, y_pred))"
   ]
  },
  {
   "cell_type": "markdown",
   "id": "76daf81e",
   "metadata": {},
   "source": [
    "## Logistic Regression and the ROC curve\n",
    "\n",
    "Logistic regression generates linear decision boundary by outputing probabilities for binary classification. If the probability:\n",
    "\n",
    "* is greater than **0.5**, it's labeled as class-1\n",
    "* otherwise, it's labeled as class-0\n",
    "\n",
    "0.5 here is called the threshold of the logistic regression, which can be tuned in order to build better models."
   ]
  },
  {
   "cell_type": "code",
   "execution_count": 27,
   "id": "9dd9ee6d",
   "metadata": {},
   "outputs": [],
   "source": [
    "from sklearn.linear_model import LogisticRegression\n",
    "\n",
    "log_reg = LogisticRegression(max_iter=1000)\n",
    "log_reg.fit(X_train, y_train)\n",
    "y_pred = log_reg.predict(X_test)"
   ]
  },
  {
   "cell_type": "code",
   "execution_count": 28,
   "id": "efd88488",
   "metadata": {},
   "outputs": [
    {
     "data": {
      "text/plain": [
       "array([0, 0, 0, 0, 1, 0, 0, 1, 1, 1, 0, 1, 0, 0, 0, 0, 0, 0, 1, 1, 0, 0,\n",
       "       1, 0, 1, 1, 0, 0, 0, 0, 1, 1, 1, 1, 1, 1, 1, 0, 1, 1, 0, 1, 1, 0,\n",
       "       0, 1, 1, 0, 0, 1, 0, 1, 1, 0, 0, 0, 1, 0, 0, 1, 1, 0, 0, 0, 0, 1,\n",
       "       0, 1, 0, 1, 1, 0, 0, 0, 0, 1, 0, 0, 0, 0, 1, 0, 0, 0, 0, 1, 1, 0,\n",
       "       0, 0, 0, 0, 0, 1, 1, 1, 0, 0, 1, 0, 1, 0, 1, 1, 1, 0, 0, 1, 0, 0,\n",
       "       0, 0, 0, 1, 0, 0, 1, 0, 0, 1, 0, 0, 0, 0, 0, 0, 0, 1, 1, 1, 1, 1,\n",
       "       0, 0, 1, 0, 0, 1, 1, 0, 0, 0, 0, 0, 0, 0, 0, 0, 0, 1, 0, 1, 0, 0,\n",
       "       0, 0, 0, 1, 1, 0, 1, 1, 0, 0, 0, 1, 0, 0, 1, 1, 1, 0, 0, 1, 1, 0,\n",
       "       0, 0, 0, 0, 1, 1, 0, 1, 1, 0, 0, 0, 1, 0, 0, 0, 1, 0, 0, 0, 0, 0,\n",
       "       0, 1, 0, 0, 0, 0, 1, 0, 0, 0, 1, 1, 0, 0, 0, 0, 1, 0, 1, 0, 0, 1,\n",
       "       1, 0, 0, 0, 0, 1, 0, 0, 0, 0, 0, 0, 0, 1, 0, 0, 0, 0, 0, 1, 0, 0,\n",
       "       1, 0, 0, 0, 1, 0, 0, 0, 0, 0, 1, 0, 0, 1, 0, 0, 0, 0, 1, 0, 0, 0,\n",
       "       0, 0, 0, 0, 0, 0, 0, 0, 1, 1, 0, 0, 0, 1, 0, 0, 0, 1, 1, 1, 0, 0,\n",
       "       1, 1, 0, 1, 0, 0, 1, 0, 0, 0, 0, 1, 0, 0, 0, 1, 1, 0, 0, 0, 0, 0],\n",
       "      dtype=int64)"
      ]
     },
     "execution_count": 28,
     "metadata": {},
     "output_type": "execute_result"
    }
   ],
   "source": [
    "y_pred"
   ]
  },
  {
   "cell_type": "markdown",
   "id": "fcb98a93",
   "metadata": {},
   "source": [
    "But what if we wanted to get the probailities for each class of the target? For that, we use `predict_proba` instead of `predict` which returns the target class for each sample."
   ]
  },
  {
   "cell_type": "code",
   "execution_count": 29,
   "id": "3d3ce2ca",
   "metadata": {},
   "outputs": [],
   "source": [
    "y_probalities = log_reg.predict_proba(X_test)"
   ]
  },
  {
   "cell_type": "code",
   "execution_count": 30,
   "id": "4b69ed9b",
   "metadata": {},
   "outputs": [
    {
     "data": {
      "text/plain": [
       "array([[0.69412947, 0.30587053],\n",
       "       [0.80287323, 0.19712677],\n",
       "       [0.85944707, 0.14055293],\n",
       "       [0.83574296, 0.16425704],\n",
       "       [0.48560103, 0.51439897],\n",
       "       [0.50392474, 0.49607526],\n",
       "       [0.98325746, 0.01674254],\n",
       "       [0.39633072, 0.60366928],\n",
       "       [0.45345898, 0.54654102],\n",
       "       [0.20607549, 0.79392451],\n",
       "       [0.74520245, 0.25479755],\n",
       "       [0.11438935, 0.88561065],\n",
       "       [0.58195257, 0.41804743],\n",
       "       [0.70424789, 0.29575211],\n",
       "       [0.92728631, 0.07271369],\n",
       "       [0.65876152, 0.34123848],\n",
       "       [0.85192551, 0.14807449],\n",
       "       [0.91736196, 0.08263804],\n",
       "       [0.15558196, 0.84441804],\n",
       "       [0.40207554, 0.59792446],\n",
       "       [0.75683912, 0.24316088],\n",
       "       [0.91366147, 0.08633853],\n",
       "       [0.49282253, 0.50717747],\n",
       "       [0.89212825, 0.10787175],\n",
       "       [0.41955203, 0.58044797],\n",
       "       [0.13373809, 0.86626191],\n",
       "       [0.88161144, 0.11838856],\n",
       "       [0.96581173, 0.03418827],\n",
       "       [0.68130786, 0.31869214],\n",
       "       [0.86988801, 0.13011199],\n",
       "       [0.10159534, 0.89840466],\n",
       "       [0.12452265, 0.87547735],\n",
       "       [0.20233104, 0.79766896],\n",
       "       [0.20806638, 0.79193362],\n",
       "       [0.35379017, 0.64620983],\n",
       "       [0.32739914, 0.67260086],\n",
       "       [0.07552576, 0.92447424],\n",
       "       [0.78807361, 0.21192639],\n",
       "       [0.4934312 , 0.5065688 ],\n",
       "       [0.2530381 , 0.7469619 ],\n",
       "       [0.92477044, 0.07522956],\n",
       "       [0.44483499, 0.55516501],\n",
       "       [0.44019024, 0.55980976],\n",
       "       [0.63274175, 0.36725825],\n",
       "       [0.96513536, 0.03486464],\n",
       "       [0.49870099, 0.50129901],\n",
       "       [0.41628836, 0.58371164],\n",
       "       [0.77064653, 0.22935347],\n",
       "       [0.66086052, 0.33913948],\n",
       "       [0.04459878, 0.95540122],\n",
       "       [0.94859363, 0.05140637],\n",
       "       [0.35305294, 0.64694706],\n",
       "       [0.15536315, 0.84463685],\n",
       "       [0.74381369, 0.25618631],\n",
       "       [0.88701556, 0.11298444],\n",
       "       [0.95384686, 0.04615314],\n",
       "       [0.2175496 , 0.7824504 ],\n",
       "       [0.99518595, 0.00481405],\n",
       "       [0.60314282, 0.39685718],\n",
       "       [0.22650182, 0.77349818],\n",
       "       [0.29535931, 0.70464069],\n",
       "       [0.64927727, 0.35072273],\n",
       "       [0.74936828, 0.25063172],\n",
       "       [0.74617582, 0.25382418],\n",
       "       [0.8991394 , 0.1008606 ],\n",
       "       [0.41663011, 0.58336989],\n",
       "       [0.94752648, 0.05247352],\n",
       "       [0.19451771, 0.80548229],\n",
       "       [0.96257625, 0.03742375],\n",
       "       [0.205238  , 0.794762  ],\n",
       "       [0.29951895, 0.70048105],\n",
       "       [0.92178674, 0.07821326],\n",
       "       [0.79643467, 0.20356533],\n",
       "       [0.86448184, 0.13551816],\n",
       "       [0.89461803, 0.10538197],\n",
       "       [0.47771153, 0.52228847],\n",
       "       [0.83614919, 0.16385081],\n",
       "       [0.88579982, 0.11420018],\n",
       "       [0.853588  , 0.146412  ],\n",
       "       [0.69788638, 0.30211362],\n",
       "       [0.33548713, 0.66451287],\n",
       "       [0.85938584, 0.14061416],\n",
       "       [0.93322327, 0.06677673],\n",
       "       [0.5937467 , 0.4062533 ],\n",
       "       [0.73288013, 0.26711987],\n",
       "       [0.14805451, 0.85194549],\n",
       "       [0.10041068, 0.89958932],\n",
       "       [0.68683175, 0.31316825],\n",
       "       [0.87336614, 0.12663386],\n",
       "       [0.89640183, 0.10359817],\n",
       "       [0.93186453, 0.06813547],\n",
       "       [0.68711644, 0.31288356],\n",
       "       [0.99636852, 0.00363148],\n",
       "       [0.45230888, 0.54769112],\n",
       "       [0.4559621 , 0.5440379 ],\n",
       "       [0.38923798, 0.61076202],\n",
       "       [0.6042093 , 0.3957907 ],\n",
       "       [0.86424171, 0.13575829],\n",
       "       [0.33745302, 0.66254698],\n",
       "       [0.8933197 , 0.1066803 ],\n",
       "       [0.31611051, 0.68388949],\n",
       "       [0.92743838, 0.07256162],\n",
       "       [0.18264588, 0.81735412],\n",
       "       [0.4540798 , 0.5459202 ],\n",
       "       [0.36447868, 0.63552132],\n",
       "       [0.74396986, 0.25603014],\n",
       "       [0.77317143, 0.22682857],\n",
       "       [0.29676117, 0.70323883],\n",
       "       [0.88634362, 0.11365638],\n",
       "       [0.52797689, 0.47202311],\n",
       "       [0.90457057, 0.09542943],\n",
       "       [0.67432745, 0.32567255],\n",
       "       [0.98445698, 0.01554302],\n",
       "       [0.22559661, 0.77440339],\n",
       "       [0.80119139, 0.19880861],\n",
       "       [0.68911833, 0.31088167],\n",
       "       [0.28511973, 0.71488027],\n",
       "       [0.75628933, 0.24371067],\n",
       "       [0.92889022, 0.07110978],\n",
       "       [0.39334939, 0.60665061],\n",
       "       [0.93245757, 0.06754243],\n",
       "       [0.73189928, 0.26810072],\n",
       "       [0.76946195, 0.23053805],\n",
       "       [0.9358692 , 0.0641308 ],\n",
       "       [0.72015059, 0.27984941],\n",
       "       [0.5563367 , 0.4436633 ],\n",
       "       [0.96865916, 0.03134084],\n",
       "       [0.15710813, 0.84289187],\n",
       "       [0.02764829, 0.97235171],\n",
       "       [0.32487173, 0.67512827],\n",
       "       [0.33125514, 0.66874486],\n",
       "       [0.13217944, 0.86782056],\n",
       "       [0.90629804, 0.09370196],\n",
       "       [0.56400868, 0.43599132],\n",
       "       [0.1988252 , 0.8011748 ],\n",
       "       [0.86066235, 0.13933765],\n",
       "       [0.81151164, 0.18848836],\n",
       "       [0.10925022, 0.89074978],\n",
       "       [0.2084466 , 0.7915534 ],\n",
       "       [0.98558012, 0.01441988],\n",
       "       [0.90886769, 0.09113231],\n",
       "       [0.95291309, 0.04708691],\n",
       "       [0.77602757, 0.22397243],\n",
       "       [0.50971572, 0.49028428],\n",
       "       [0.84662431, 0.15337569],\n",
       "       [0.70302439, 0.29697561],\n",
       "       [0.88365689, 0.11634311],\n",
       "       [0.97656153, 0.02343847],\n",
       "       [0.57645934, 0.42354066],\n",
       "       [0.23269098, 0.76730902],\n",
       "       [0.90091324, 0.09908676],\n",
       "       [0.47139572, 0.52860428],\n",
       "       [0.72571161, 0.27428839],\n",
       "       [0.81070739, 0.18929261],\n",
       "       [0.99485602, 0.00514398],\n",
       "       [0.60771   , 0.39229   ],\n",
       "       [0.70148776, 0.29851224],\n",
       "       [0.38788286, 0.61211714],\n",
       "       [0.19876733, 0.80123267],\n",
       "       [0.85309164, 0.14690836],\n",
       "       [0.46382778, 0.53617222],\n",
       "       [0.35827019, 0.64172981],\n",
       "       [0.80389271, 0.19610729],\n",
       "       [0.98107188, 0.01892812],\n",
       "       [0.86344954, 0.13655046],\n",
       "       [0.12407968, 0.87592032],\n",
       "       [0.94331636, 0.05668364],\n",
       "       [0.70100621, 0.29899379],\n",
       "       [0.22367625, 0.77632375],\n",
       "       [0.44934086, 0.55065914],\n",
       "       [0.3822074 , 0.6177926 ],\n",
       "       [0.81969773, 0.18030227],\n",
       "       [0.63034395, 0.36965605],\n",
       "       [0.21400459, 0.78599541],\n",
       "       [0.32872394, 0.67127606],\n",
       "       [0.90816901, 0.09183099],\n",
       "       [0.67228154, 0.32771846],\n",
       "       [0.71452291, 0.28547709],\n",
       "       [0.76018827, 0.23981173],\n",
       "       [0.69408072, 0.30591928],\n",
       "       [0.47449015, 0.52550985],\n",
       "       [0.40112336, 0.59887664],\n",
       "       [0.54253939, 0.45746061],\n",
       "       [0.23356153, 0.76643847],\n",
       "       [0.37529102, 0.62470898],\n",
       "       [0.90611536, 0.09388464],\n",
       "       [0.94762013, 0.05237987],\n",
       "       [0.85533714, 0.14466286],\n",
       "       [0.17598398, 0.82401602],\n",
       "       [0.6236084 , 0.3763916 ],\n",
       "       [0.92456289, 0.07543711],\n",
       "       [0.90283288, 0.09716712],\n",
       "       [0.1070321 , 0.8929679 ],\n",
       "       [0.70737466, 0.29262534],\n",
       "       [0.90674469, 0.09325531],\n",
       "       [0.93566272, 0.06433728],\n",
       "       [0.99655649, 0.00344351],\n",
       "       [0.92565572, 0.07434428],\n",
       "       [0.75905907, 0.24094093],\n",
       "       [0.31902887, 0.68097113],\n",
       "       [0.83044789, 0.16955211],\n",
       "       [0.87769238, 0.12230762],\n",
       "       [0.63024246, 0.36975754],\n",
       "       [0.75266702, 0.24733298],\n",
       "       [0.29227824, 0.70772176],\n",
       "       [0.89879248, 0.10120752],\n",
       "       [0.8845833 , 0.1154167 ],\n",
       "       [0.75376506, 0.24623494],\n",
       "       [0.10058271, 0.89941729],\n",
       "       [0.40211218, 0.59788782],\n",
       "       [0.71362028, 0.28637972],\n",
       "       [0.75799548, 0.24200452],\n",
       "       [0.85359504, 0.14640496],\n",
       "       [0.88572574, 0.11427426],\n",
       "       [0.25097352, 0.74902648],\n",
       "       [0.91402554, 0.08597446],\n",
       "       [0.15558729, 0.84441271],\n",
       "       [0.69623016, 0.30376984],\n",
       "       [0.6414911 , 0.3585089 ],\n",
       "       [0.120942  , 0.879058  ],\n",
       "       [0.40885004, 0.59114996],\n",
       "       [0.88323228, 0.11676772],\n",
       "       [0.92259088, 0.07740912],\n",
       "       [0.83245043, 0.16754957],\n",
       "       [0.91938494, 0.08061506],\n",
       "       [0.23870335, 0.76129665],\n",
       "       [0.6494407 , 0.3505593 ],\n",
       "       [0.73599046, 0.26400954],\n",
       "       [0.70805422, 0.29194578],\n",
       "       [0.7912315 , 0.2087685 ],\n",
       "       [0.87607712, 0.12392288],\n",
       "       [0.95520859, 0.04479141],\n",
       "       [0.75796287, 0.24203713],\n",
       "       [0.49397803, 0.50602197],\n",
       "       [0.6576289 , 0.3423711 ],\n",
       "       [0.51398018, 0.48601982],\n",
       "       [0.90744504, 0.09255496],\n",
       "       [0.7558827 , 0.2441173 ],\n",
       "       [0.66444563, 0.33555437],\n",
       "       [0.32861707, 0.67138293],\n",
       "       [0.89223748, 0.10776252],\n",
       "       [0.94979501, 0.05020499],\n",
       "       [0.44967987, 0.55032013],\n",
       "       [0.88653492, 0.11346508],\n",
       "       [0.80119937, 0.19880063],\n",
       "       [0.64856552, 0.35143448],\n",
       "       [0.17544346, 0.82455654],\n",
       "       [0.90909844, 0.09090156],\n",
       "       [0.62244753, 0.37755247],\n",
       "       [0.76345544, 0.23654456],\n",
       "       [0.80717961, 0.19282039],\n",
       "       [0.99709603, 0.00290397],\n",
       "       [0.30276294, 0.69723706],\n",
       "       [0.93605777, 0.06394223],\n",
       "       [0.80938397, 0.19061603],\n",
       "       [0.31952345, 0.68047655],\n",
       "       [0.87207423, 0.12792577],\n",
       "       [0.59363232, 0.40636768],\n",
       "       [0.87200685, 0.12799315],\n",
       "       [0.93226522, 0.06773478],\n",
       "       [0.40089955, 0.59910045],\n",
       "       [0.56240267, 0.43759733],\n",
       "       [0.82970918, 0.17029082],\n",
       "       [0.96651843, 0.03348157],\n",
       "       [0.79941816, 0.20058184],\n",
       "       [0.90248326, 0.09751674],\n",
       "       [0.55288264, 0.44711736],\n",
       "       [0.71980026, 0.28019974],\n",
       "       [0.94354546, 0.05645454],\n",
       "       [0.65361057, 0.34638943],\n",
       "       [0.7970325 , 0.2029675 ],\n",
       "       [0.75375768, 0.24624232],\n",
       "       [0.30877481, 0.69122519],\n",
       "       [0.37947616, 0.62052384],\n",
       "       [0.53832411, 0.46167589],\n",
       "       [0.86457566, 0.13542434],\n",
       "       [0.91793154, 0.08206846],\n",
       "       [0.33783399, 0.66216601],\n",
       "       [0.86663039, 0.13336961],\n",
       "       [0.84545405, 0.15454595],\n",
       "       [0.6916175 , 0.3083825 ],\n",
       "       [0.2536962 , 0.7463038 ],\n",
       "       [0.12823536, 0.87176464],\n",
       "       [0.0516728 , 0.9483272 ],\n",
       "       [0.86623734, 0.13376266],\n",
       "       [0.69900693, 0.30099307],\n",
       "       [0.16991242, 0.83008758],\n",
       "       [0.24310706, 0.75689294],\n",
       "       [0.96551023, 0.03448977],\n",
       "       [0.13570922, 0.86429078],\n",
       "       [0.82011259, 0.17988741],\n",
       "       [0.75320166, 0.24679834],\n",
       "       [0.09721034, 0.90278966],\n",
       "       [0.76400591, 0.23599409],\n",
       "       [0.59958707, 0.40041293],\n",
       "       [0.86756446, 0.13243554],\n",
       "       [0.82129428, 0.17870572],\n",
       "       [0.2213607 , 0.7786393 ],\n",
       "       [0.65162916, 0.34837084],\n",
       "       [0.74346494, 0.25653506],\n",
       "       [0.79794945, 0.20205055],\n",
       "       [0.35231489, 0.64768511],\n",
       "       [0.24133331, 0.75866669],\n",
       "       [0.96480646, 0.03519354],\n",
       "       [0.92545861, 0.07454139],\n",
       "       [0.96258452, 0.03741548],\n",
       "       [0.9949681 , 0.0050319 ],\n",
       "       [0.50710367, 0.49289633]])"
      ]
     },
     "execution_count": 30,
     "metadata": {},
     "output_type": "execute_result"
    }
   ],
   "source": [
    "y_probalities"
   ]
  },
  {
   "cell_type": "markdown",
   "id": "af8f3dcc",
   "metadata": {},
   "source": [
    "`y_probabilities` is a numpy array of 2 columns. The first column is for class-0 and the second for class-1. Let's get those for class-1, the positive class."
   ]
  },
  {
   "cell_type": "code",
   "execution_count": 31,
   "id": "5b965372",
   "metadata": {},
   "outputs": [],
   "source": [
    "y_probalities = log_reg.predict_proba(X_test)[:, 1]"
   ]
  },
  {
   "cell_type": "markdown",
   "id": "f686ff0f",
   "metadata": {},
   "source": [
    "For each threshold $p \\in [0, 1]$, we can calculate the false positive rate (FPR) and the true postive rate (TPR).\n",
    "\n",
    "$$\n",
    "FPR = \\frac{FP}{FP+TN}\n",
    "$$\n",
    "\n",
    "$$\n",
    "TPR = \\frac{TP}{TP+FN}\n",
    "$$\n",
    "\n",
    "At $p = 0$, we have for 20 spam (P) and 80 real (N):\n",
    "\n",
    "* P = 100\n",
    "* N = 0\n",
    "* TP = 20\n",
    "* FP = 80\n",
    "* FN = 0\n",
    "* TN = 0\n",
    "\n",
    "which results in:\n",
    "\n",
    "* TPR = 1\n",
    "* FPR = 1\n",
    "\n",
    "At $p = 1$, we have for 20 spam (P) and 80 real (N):\n",
    "\n",
    "* P = 0\n",
    "* N = 100\n",
    "* TP = 0\n",
    "* FP = 0\n",
    "* FN = 20\n",
    "* TN = 80\n",
    "\n",
    "which results in:\n",
    "\n",
    "* TPR = 0\n",
    "* FPR = 0\n",
    "\n",
    "which leads for this plot,"
   ]
  },
  {
   "cell_type": "code",
   "execution_count": 43,
   "id": "36d0fe12",
   "metadata": {},
   "outputs": [
    {
     "data": {
      "image/png": "[encoded data removed]",
      "text/plain": [
       "<Figure size 432x288 with 1 Axes>"
      ]
     },
     "metadata": {
      "needs_background": "light"
     },
     "output_type": "display_data"
    }
   ],
   "source": [
    "plt.plot([0, 1], [0, 1], linestyle = \"--\", color = \"black\")\n",
    "plt.scatter([0], [0], s=100, label = \"$p = 1$\")\n",
    "plt.scatter([1], [1], s=100, label = \"$p = 0$\", color = \"red\")\n",
    "plt.xlabel(\"FPR\")\n",
    "plt.ylabel(\"TPR\")\n",
    "plt.legend();"
   ]
  },
  {
   "cell_type": "markdown",
   "id": "25b02bc1",
   "metadata": {},
   "source": [
    "The line represent a random model (a model that choses randomly). Our machine learning models should be above that line. Plotting the curve between FPR and TPR is called ROC (receiver operating characterstic) curve. We can calculate the TPR and its corresponding FPR at different thresholds using the `roc_curve` function from `sklearn.metrics`."
   ]
  },
  {
   "cell_type": "code",
   "execution_count": 46,
   "id": "a5923140",
   "metadata": {
    "scrolled": false
   },
   "outputs": [
    {
     "data": {
      "image/png": "[encoded data removed]",
      "text/plain": [
       "<Figure size 432x288 with 1 Axes>"
      ]
     },
     "metadata": {
      "needs_background": "light"
     },
     "output_type": "display_data"
    }
   ],
   "source": [
    "from sklearn.metrics import roc_curve\n",
    "\n",
    "# Generate ROC curve values: fpr, tpr, thresholds\n",
    "fpr, tpr, thresholds = roc_curve(y_test, y_probalities)\n",
    "\n",
    "# Plot ROC curve\n",
    "\n",
    "plt.plot([0, 1], [0, 1], 'k--')\n",
    "plt.plot(fpr, tpr, label = \"Logistic Regression\")\n",
    "plt.xlabel('False Positive Rate')\n",
    "plt.ylabel('True Positive Rate')\n",
    "plt.title('ROC Curve')\n",
    "plt.legend();"
   ]
  },
  {
   "cell_type": "code",
   "execution_count": 47,
   "id": "34407bbe",
   "metadata": {},
   "outputs": [
    {
     "data": {
      "text/plain": [
       "array([1.97235171, 0.97235171, 0.95540122, 0.89074978, 0.879058  ,\n",
       "       0.86626191, 0.86429078, 0.84441804, 0.84441271, 0.83008758,\n",
       "       0.82455654, 0.794762  , 0.79392451, 0.7915534 , 0.7824504 ,\n",
       "       0.7786393 , 0.77632375, 0.76643847, 0.76129665, 0.71488027,\n",
       "       0.70772176, 0.70323883, 0.70048105, 0.69122519, 0.68388949,\n",
       "       0.68097113, 0.67512827, 0.67138293, 0.67127606, 0.64694706,\n",
       "       0.64620983, 0.62052384, 0.59887664, 0.58371164, 0.55516501,\n",
       "       0.54769112, 0.5440379 , 0.53617222, 0.5065688 , 0.50129901,\n",
       "       0.48601982, 0.47202311, 0.4436633 , 0.43599132, 0.42354066,\n",
       "       0.40636768, 0.4062533 , 0.40041293, 0.3957907 , 0.39229   ,\n",
       "       0.3763916 , 0.36725825, 0.35072273, 0.34837084, 0.3423711 ,\n",
       "       0.34123848, 0.33913948, 0.33555437, 0.32567255, 0.31316825,\n",
       "       0.3083825 , 0.30591928, 0.30587053, 0.30376984, 0.27984941,\n",
       "       0.27428839, 0.26711987, 0.26400954, 0.25653506, 0.25618631,\n",
       "       0.25603014, 0.25382418, 0.24200452, 0.23981173, 0.23599409,\n",
       "       0.23053805, 0.22397243, 0.21192639, 0.19610729, 0.19282039,\n",
       "       0.18929261, 0.18030227, 0.14466286, 0.14061416, 0.13575829,\n",
       "       0.13551816, 0.11676772, 0.11634311, 0.11420018, 0.11365638,\n",
       "       0.07740912, 0.07543711, 0.03348157, 0.03134084, 0.00290397])"
      ]
     },
     "execution_count": 47,
     "metadata": {},
     "output_type": "execute_result"
    }
   ],
   "source": [
    "thresholds"
   ]
  },
  {
   "cell_type": "markdown",
   "id": "713894dd",
   "metadata": {},
   "source": [
    "## Area under the ROC curve (AUC)\n",
    "\n",
    "The higher the ROC of our model is above the random model line (dashed-black), the better the model is. To measure the quality of the model using ROC, we calculate the area under it. The area is known as **AUC** and it is in the range [0, 1]. We can calculate the AUC using `roc_auc_score` from `sklearn.metrics`."
   ]
  },
  {
   "cell_type": "code",
   "execution_count": 48,
   "id": "c9e1ed62",
   "metadata": {},
   "outputs": [
    {
     "data": {
      "text/plain": [
       "0.8243384732533791"
      ]
     },
     "execution_count": 48,
     "metadata": {},
     "output_type": "execute_result"
    }
   ],
   "source": [
    "from sklearn.metrics import roc_auc_score\n",
    "\n",
    "roc_auc_score(y_test, y_probalities)"
   ]
  },
  {
   "cell_type": "markdown",
   "id": "7db2420e",
   "metadata": {},
   "source": [
    "We can also apply cross validation for the AUC scores to insure it is not dependent on the `X_test`. We specify that we want to use the AUC score as our metric by setting `scoring` argument to `roc_auc`."
   ]
  },
  {
   "cell_type": "code",
   "execution_count": 49,
   "id": "f909d272",
   "metadata": {},
   "outputs": [
    {
     "data": {
      "text/plain": [
       "array([0.81222222, 0.80777778, 0.82574074, 0.87283019, 0.84471698])"
      ]
     },
     "execution_count": 49,
     "metadata": {},
     "output_type": "execute_result"
    }
   ],
   "source": [
    "from sklearn.model_selection import cross_val_score\n",
    "\n",
    "cv_scores = cross_val_score(log_reg, X, y, cv=5, scoring=\"roc_auc\")\n",
    "\n",
    "cv_scores"
   ]
  },
  {
   "cell_type": "markdown",
   "id": "dc43dacd",
   "metadata": {},
   "source": [
    "## Hyperparameter Tuning\n",
    "\n",
    "Any parameters that need to be specified before fitting the model to that data as they cannot be be learned by fitting are called ***hyperparameters***.\n",
    "\n",
    "For example: $\\lambda$ in Ridge and Lasso, $k$ in KNN.\n",
    "\n",
    "To choose the best set of hyperparameters (a model can have more than one hyperparameter), we can try all combinations of hyperparameters values and fit each separately and choose the best forming one based on the cross-validation results. This is called **Grid Search Cross Validation**.\n",
    "\n",
    "Let's say we have a model that has 2 hyperparmeters $C$ and $\\alpha$. The grid search applies fitting the model using each combination of these hyperparameters let's say each has the range of [0.1, 0.5], calculates the cross valiadtion scores mean and takes the combination of hypeparameters that has the highest mean score.\n",
    "\n",
    "![](assets/images/grid-search.png)\n",
    "\n",
    "We can see that the model produced the highest mean score in that grid is at $\\alpha = 0.2$ and $C = 0.3$. We can use grid search cross validation in sklearn by this\n",
    "\n",
    "```python\n",
    "from sklearn.model_selection import GridSearchCV\n",
    "\n",
    "param_gird = {\n",
    "    \"param_1\": np.arange(min1, max1),\n",
    "    \"param_2\": np.arange(min2, max2),\n",
    "    \"param_3\": np.arange(min3, max3),\n",
    "}\n",
    "\n",
    "# check the docs of each model for the names of the hyperparameters.\n",
    "\n",
    "reg_cv = GirdSearchCV(reg, param_grid, cv = 5)\n",
    "\n",
    "# apply the grid search by fitting the data\n",
    "reg_cv.fit(X, y)\n",
    "\n",
    "# look at the best parameters selected by the grid search\n",
    "reg_cv.best_params_, reg_cv.best_socre_\n",
    "```"
   ]
  },
  {
   "cell_type": "code",
   "execution_count": 50,
   "id": "be6c2d32",
   "metadata": {},
   "outputs": [
    {
     "data": {
      "text/plain": [
       "GridSearchCV(cv=5, estimator=KNeighborsClassifier(),\n",
       "             param_grid={'n_neighbors': array([ 1,  2,  3,  4,  5,  6,  7,  8,  9, 10, 11, 12, 13, 14, 15, 16, 17,\n",
       "       18, 19, 20, 21, 22, 23, 24, 25, 26, 27, 28, 29, 30, 31, 32, 33, 34,\n",
       "       35, 36, 37, 38, 39, 40, 41, 42, 43, 44, 45, 46, 47, 48, 49])})"
      ]
     },
     "execution_count": 50,
     "metadata": {},
     "output_type": "execute_result"
    }
   ],
   "source": [
    "from sklearn.model_selection import GridSearchCV\n",
    "\n",
    "param_grid = {\"n_neighbors\": np.arange(1, 50)}\n",
    "knn = KNeighborsClassifier()\n",
    "\n",
    "knn_cv = GridSearchCV(knn, param_grid, cv=5)\n",
    "knn_cv.fit(X, y)"
   ]
  },
  {
   "cell_type": "code",
   "execution_count": 51,
   "id": "7041ee17",
   "metadata": {},
   "outputs": [
    {
     "data": {
      "text/plain": [
       "{'n_neighbors': 14}"
      ]
     },
     "execution_count": 51,
     "metadata": {},
     "output_type": "execute_result"
    }
   ],
   "source": [
    "knn_cv.best_params_"
   ]
  },
  {
   "cell_type": "code",
   "execution_count": 53,
   "id": "ba57cc4b",
   "metadata": {},
   "outputs": [
    {
     "data": {
      "text/plain": [
       "0.7578558696205755"
      ]
     },
     "execution_count": 53,
     "metadata": {},
     "output_type": "execute_result"
    }
   ],
   "source": [
    "knn_cv.best_score_"
   ]
  },
  {
   "cell_type": "markdown",
   "id": "fc628a64",
   "metadata": {},
   "source": [
    "`GridSearchCV` can be computationally expensive especially if we are searching over a larget hyperparameter space and dealing with multiple hyperparameters. One solution is to use `RandomizedSearchCV` which doesn't search over all combinations of hyperparameters. Instead, a fixed number of hyperparameter settings is sampled from the provided spaces. We will use `RandomizedSearchCV` with the decision tree classifier over 4 hyperparameters; `criterion`, `min_samples_leaf`, `max_features` and `max_depth`."
   ]
  },
  {
   "cell_type": "code",
   "execution_count": 62,
   "id": "b8adceee",
   "metadata": {},
   "outputs": [
    {
     "data": {
      "text/plain": [
       "({'criterion': 'entropy',\n",
       "  'max_depth': 3,\n",
       "  'max_features': 6,\n",
       "  'min_samples_leaf': 7},\n",
       " 0.7461336049571343)"
      ]
     },
     "execution_count": 62,
     "metadata": {},
     "output_type": "execute_result"
    }
   ],
   "source": [
    "from sklearn.model_selection import RandomizedSearchCV\n",
    "from sklearn.tree import DecisionTreeClassifier\n",
    "from scipy.stats import randint\n",
    "\n",
    "param_dist = {\n",
    "    \"max_depth\": [3, None],\n",
    "    \"max_features\": randint(1, 9),\n",
    "    \"min_samples_leaf\": randint(1, 9),\n",
    "    \"criterion\": [\"gini\", \"entropy\"]\n",
    "}\n",
    "\n",
    "tree = DecisionTreeClassifier()\n",
    "\n",
    "tree_cv = RandomizedSearchCV(tree, param_dist, cv=5)\n",
    "\n",
    "tree_cv.fit(X, y)\n",
    "tree_cv.best_params_, tree_cv.best_score_"
   ]
  },
  {
   "cell_type": "markdown",
   "id": "0bf978c6",
   "metadata": {},
   "source": [
    "***NOTE:*** The combinations of hyperparameters fitted to the data aren't the same each execution, results will probably change in terms of best score and parameters."
   ]
  },
  {
   "cell_type": "markdown",
   "id": "f275e0b3",
   "metadata": {},
   "source": [
    "## Hold-out set for the final evaluation\n",
    "\n",
    "Using all data for corss-validation is not ideal. Estimating the perfomance on any of it may not provide an accuracte picture of how it will perform on unseen data. So, it's important to split the data before applying cross validation into training and test set. The test can be called the ***hold-out*** set.\n",
    "\n",
    "We use the training set to perfom cross-validation to tune the model's hyperparameters and use the hold-out set to test how well the model can be expeceted to perfrom on a dataset it has never seen before."
   ]
  }
 ],
 "metadata": {
  "kernelspec": {
   "display_name": "Python 3 (ipykernel)",
   "language": "python",
   "name": "python3"
  },
  "language_info": {
   "codemirror_mode": {
    "name": "ipython",
    "version": 3
   },
   "file_extension": ".py",
   "mimetype": "text/x-python",
   "name": "python",
   "nbconvert_exporter": "python",
   "pygments_lexer": "ipython3",
   "version": "3.9.6"
  }
 },
 "nbformat": 4,
 "nbformat_minor": 5
}
